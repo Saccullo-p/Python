{
  "nbformat": 4,
  "nbformat_minor": 0,
  "metadata": {
    "colab": {
      "name": "Copia di Simulazione verifica sommativa.ipynb",
      "provenance": [],
      "collapsed_sections": []
    },
    "kernelspec": {
      "name": "python3",
      "display_name": "Python 3"
    },
    "language_info": {
      "name": "python"
    }
  },
  "cells": [
    {
      "cell_type": "markdown",
      "metadata": {
        "id": "xiZxijzhjLm-"
      },
      "source": [
        "Utilizzando Compass, caricare sul proprio database la collection presente nel file allegato, relativa ad una serie di messaggi recuperati da una chat di gruppo di Whatsapp. I campi della collection sono:\n",
        "\n",
        "user_id: identificativo dell'utente\n",
        "\n",
        "message_length: lunghezza del messaggio in caratteri\n",
        "\n",
        "has_media: indica se il messaggio contiene immagini, sticker, video, ...\n",
        "\n",
        "has_links: indica se il messaggio ha link\n",
        "\n",
        "full_date: indica la data e l'ora in cui è stato inviato il messaggio\n",
        "\n",
        "Creare poi un notebook che permetta di:"
      ]
    },
    {
      "cell_type": "code",
      "metadata": {
        "id": "dZNzY7Znknue"
      },
      "source": [
        "import pandas as pd\n",
        "import matplotlib.pyplot as plt\n",
        "import pymongo\n",
        "import numpy as np"
      ],
      "execution_count": 1,
      "outputs": []
    },
    {
      "cell_type": "markdown",
      "metadata": {
        "id": "yX5jGASGgB-X"
      },
      "source": [
        "1. Visualizzare i dati recuperandoli dal proprio database."
      ]
    },
    {
      "cell_type": "code",
      "metadata": {
        "id": "A-Q6Q7qofXIY"
      },
      "source": [
        "client = pymongo.MongoClient('')\n",
        "db = client.NAME\n",
        "rest = db.Whatsapp\n",
        "rest"
      ],
      "execution_count": null,
      "outputs": []
    },
    {
      "cell_type": "code",
      "metadata": {
        "id": "3CvVQzl0mag3",
        "colab": {
          "base_uri": "https://localhost:8080/",
          "height": 424
        },
        "outputId": "0cc43aa1-0001-4637-bd6a-6c5d42e0cc0a"
      },
      "source": [
        "df = pd.DataFrame.from_records(db.Whatsapp.find())\n",
        "df"
      ],
      "execution_count": 7,
      "outputs": [
        {
          "output_type": "execute_result",
          "data": {
            "text/plain": [
              "                          _id   user_id  message_length device_type  \\\n",
              "0    6197722d7e89d5c4381cc4c4  9a0f4@kp               9     android   \n",
              "1    6197722d7e89d5c4381cc515  96121@kp              10     android   \n",
              "2    6197722d7e89d5c4381cc550  9609a@kp              21     android   \n",
              "3    6197722d7e89d5c4381cc52f  9609a@kp              37     android   \n",
              "4    6197722d7e89d5c4381cc547  9679f@kp              30         web   \n",
              "..                        ...       ...             ...         ...   \n",
              "213  6197722d7e89d5c4381cc51b  9a0f4@kp              35     android   \n",
              "214  6197722d7e89d5c4381cc571  9a0f4@kp              22     android   \n",
              "215  6197722d7e89d5c4381cc58b  9609a@kp              10     android   \n",
              "216  6197722d7e89d5c4381cc520  9609a@kp              44     android   \n",
              "217  6197722d7e89d5c4381cc57e  9a0f4@kp              33     android   \n",
              "\n",
              "     has_media  has_links                 full_date  \n",
              "0        False      False  2021-11-11T09:18:28.132Z  \n",
              "1        False      False  2021-11-12T14:07:52.605Z  \n",
              "2        False      False  2021-11-15T08:45:21.652Z  \n",
              "3        False      False  2021-11-14T12:14:44.295Z  \n",
              "4        False      False  2021-11-14T20:27:33.310Z  \n",
              "..         ...        ...                       ...  \n",
              "213      False      False  2021-11-12T14:08:38.892Z  \n",
              "214      False      False  2021-11-15T20:01:37.875Z  \n",
              "215      False      False  2021-11-16T07:08:41.958Z  \n",
              "216      False      False  2021-11-12T14:13:13.529Z  \n",
              "217      False      False  2021-11-15T20:05:40.032Z  \n",
              "\n",
              "[218 rows x 7 columns]"
            ],
            "text/html": [
              "\n",
              "  <div id=\"df-f62bd806-72f8-4483-a130-2796b487da15\">\n",
              "    <div class=\"colab-df-container\">\n",
              "      <div>\n",
              "<style scoped>\n",
              "    .dataframe tbody tr th:only-of-type {\n",
              "        vertical-align: middle;\n",
              "    }\n",
              "\n",
              "    .dataframe tbody tr th {\n",
              "        vertical-align: top;\n",
              "    }\n",
              "\n",
              "    .dataframe thead th {\n",
              "        text-align: right;\n",
              "    }\n",
              "</style>\n",
              "<table border=\"1\" class=\"dataframe\">\n",
              "  <thead>\n",
              "    <tr style=\"text-align: right;\">\n",
              "      <th></th>\n",
              "      <th>_id</th>\n",
              "      <th>user_id</th>\n",
              "      <th>message_length</th>\n",
              "      <th>device_type</th>\n",
              "      <th>has_media</th>\n",
              "      <th>has_links</th>\n",
              "      <th>full_date</th>\n",
              "    </tr>\n",
              "  </thead>\n",
              "  <tbody>\n",
              "    <tr>\n",
              "      <th>0</th>\n",
              "      <td>6197722d7e89d5c4381cc4c4</td>\n",
              "      <td>9a0f4@kp</td>\n",
              "      <td>9</td>\n",
              "      <td>android</td>\n",
              "      <td>False</td>\n",
              "      <td>False</td>\n",
              "      <td>2021-11-11T09:18:28.132Z</td>\n",
              "    </tr>\n",
              "    <tr>\n",
              "      <th>1</th>\n",
              "      <td>6197722d7e89d5c4381cc515</td>\n",
              "      <td>96121@kp</td>\n",
              "      <td>10</td>\n",
              "      <td>android</td>\n",
              "      <td>False</td>\n",
              "      <td>False</td>\n",
              "      <td>2021-11-12T14:07:52.605Z</td>\n",
              "    </tr>\n",
              "    <tr>\n",
              "      <th>2</th>\n",
              "      <td>6197722d7e89d5c4381cc550</td>\n",
              "      <td>9609a@kp</td>\n",
              "      <td>21</td>\n",
              "      <td>android</td>\n",
              "      <td>False</td>\n",
              "      <td>False</td>\n",
              "      <td>2021-11-15T08:45:21.652Z</td>\n",
              "    </tr>\n",
              "    <tr>\n",
              "      <th>3</th>\n",
              "      <td>6197722d7e89d5c4381cc52f</td>\n",
              "      <td>9609a@kp</td>\n",
              "      <td>37</td>\n",
              "      <td>android</td>\n",
              "      <td>False</td>\n",
              "      <td>False</td>\n",
              "      <td>2021-11-14T12:14:44.295Z</td>\n",
              "    </tr>\n",
              "    <tr>\n",
              "      <th>4</th>\n",
              "      <td>6197722d7e89d5c4381cc547</td>\n",
              "      <td>9679f@kp</td>\n",
              "      <td>30</td>\n",
              "      <td>web</td>\n",
              "      <td>False</td>\n",
              "      <td>False</td>\n",
              "      <td>2021-11-14T20:27:33.310Z</td>\n",
              "    </tr>\n",
              "    <tr>\n",
              "      <th>...</th>\n",
              "      <td>...</td>\n",
              "      <td>...</td>\n",
              "      <td>...</td>\n",
              "      <td>...</td>\n",
              "      <td>...</td>\n",
              "      <td>...</td>\n",
              "      <td>...</td>\n",
              "    </tr>\n",
              "    <tr>\n",
              "      <th>213</th>\n",
              "      <td>6197722d7e89d5c4381cc51b</td>\n",
              "      <td>9a0f4@kp</td>\n",
              "      <td>35</td>\n",
              "      <td>android</td>\n",
              "      <td>False</td>\n",
              "      <td>False</td>\n",
              "      <td>2021-11-12T14:08:38.892Z</td>\n",
              "    </tr>\n",
              "    <tr>\n",
              "      <th>214</th>\n",
              "      <td>6197722d7e89d5c4381cc571</td>\n",
              "      <td>9a0f4@kp</td>\n",
              "      <td>22</td>\n",
              "      <td>android</td>\n",
              "      <td>False</td>\n",
              "      <td>False</td>\n",
              "      <td>2021-11-15T20:01:37.875Z</td>\n",
              "    </tr>\n",
              "    <tr>\n",
              "      <th>215</th>\n",
              "      <td>6197722d7e89d5c4381cc58b</td>\n",
              "      <td>9609a@kp</td>\n",
              "      <td>10</td>\n",
              "      <td>android</td>\n",
              "      <td>False</td>\n",
              "      <td>False</td>\n",
              "      <td>2021-11-16T07:08:41.958Z</td>\n",
              "    </tr>\n",
              "    <tr>\n",
              "      <th>216</th>\n",
              "      <td>6197722d7e89d5c4381cc520</td>\n",
              "      <td>9609a@kp</td>\n",
              "      <td>44</td>\n",
              "      <td>android</td>\n",
              "      <td>False</td>\n",
              "      <td>False</td>\n",
              "      <td>2021-11-12T14:13:13.529Z</td>\n",
              "    </tr>\n",
              "    <tr>\n",
              "      <th>217</th>\n",
              "      <td>6197722d7e89d5c4381cc57e</td>\n",
              "      <td>9a0f4@kp</td>\n",
              "      <td>33</td>\n",
              "      <td>android</td>\n",
              "      <td>False</td>\n",
              "      <td>False</td>\n",
              "      <td>2021-11-15T20:05:40.032Z</td>\n",
              "    </tr>\n",
              "  </tbody>\n",
              "</table>\n",
              "<p>218 rows × 7 columns</p>\n",
              "</div>\n",
              "      <button class=\"colab-df-convert\" onclick=\"convertToInteractive('df-f62bd806-72f8-4483-a130-2796b487da15')\"\n",
              "              title=\"Convert this dataframe to an interactive table.\"\n",
              "              style=\"display:none;\">\n",
              "        \n",
              "  <svg xmlns=\"http://www.w3.org/2000/svg\" height=\"24px\"viewBox=\"0 0 24 24\"\n",
              "       width=\"24px\">\n",
              "    <path d=\"M0 0h24v24H0V0z\" fill=\"none\"/>\n",
              "    <path d=\"M18.56 5.44l.94 2.06.94-2.06 2.06-.94-2.06-.94-.94-2.06-.94 2.06-2.06.94zm-11 1L8.5 8.5l.94-2.06 2.06-.94-2.06-.94L8.5 2.5l-.94 2.06-2.06.94zm10 10l.94 2.06.94-2.06 2.06-.94-2.06-.94-.94-2.06-.94 2.06-2.06.94z\"/><path d=\"M17.41 7.96l-1.37-1.37c-.4-.4-.92-.59-1.43-.59-.52 0-1.04.2-1.43.59L10.3 9.45l-7.72 7.72c-.78.78-.78 2.05 0 2.83L4 21.41c.39.39.9.59 1.41.59.51 0 1.02-.2 1.41-.59l7.78-7.78 2.81-2.81c.8-.78.8-2.07 0-2.86zM5.41 20L4 18.59l7.72-7.72 1.47 1.35L5.41 20z\"/>\n",
              "  </svg>\n",
              "      </button>\n",
              "      \n",
              "  <style>\n",
              "    .colab-df-container {\n",
              "      display:flex;\n",
              "      flex-wrap:wrap;\n",
              "      gap: 12px;\n",
              "    }\n",
              "\n",
              "    .colab-df-convert {\n",
              "      background-color: #E8F0FE;\n",
              "      border: none;\n",
              "      border-radius: 50%;\n",
              "      cursor: pointer;\n",
              "      display: none;\n",
              "      fill: #1967D2;\n",
              "      height: 32px;\n",
              "      padding: 0 0 0 0;\n",
              "      width: 32px;\n",
              "    }\n",
              "\n",
              "    .colab-df-convert:hover {\n",
              "      background-color: #E2EBFA;\n",
              "      box-shadow: 0px 1px 2px rgba(60, 64, 67, 0.3), 0px 1px 3px 1px rgba(60, 64, 67, 0.15);\n",
              "      fill: #174EA6;\n",
              "    }\n",
              "\n",
              "    [theme=dark] .colab-df-convert {\n",
              "      background-color: #3B4455;\n",
              "      fill: #D2E3FC;\n",
              "    }\n",
              "\n",
              "    [theme=dark] .colab-df-convert:hover {\n",
              "      background-color: #434B5C;\n",
              "      box-shadow: 0px 1px 3px 1px rgba(0, 0, 0, 0.15);\n",
              "      filter: drop-shadow(0px 1px 2px rgba(0, 0, 0, 0.3));\n",
              "      fill: #FFFFFF;\n",
              "    }\n",
              "  </style>\n",
              "\n",
              "      <script>\n",
              "        const buttonEl =\n",
              "          document.querySelector('#df-f62bd806-72f8-4483-a130-2796b487da15 button.colab-df-convert');\n",
              "        buttonEl.style.display =\n",
              "          google.colab.kernel.accessAllowed ? 'block' : 'none';\n",
              "\n",
              "        async function convertToInteractive(key) {\n",
              "          const element = document.querySelector('#df-f62bd806-72f8-4483-a130-2796b487da15');\n",
              "          const dataTable =\n",
              "            await google.colab.kernel.invokeFunction('convertToInteractive',\n",
              "                                                     [key], {});\n",
              "          if (!dataTable) return;\n",
              "\n",
              "          const docLinkHtml = 'Like what you see? Visit the ' +\n",
              "            '<a target=\"_blank\" href=https://colab.research.google.com/notebooks/data_table.ipynb>data table notebook</a>'\n",
              "            + ' to learn more about interactive tables.';\n",
              "          element.innerHTML = '';\n",
              "          dataTable['output_type'] = 'display_data';\n",
              "          await google.colab.output.renderOutput(dataTable, element);\n",
              "          const docLink = document.createElement('div');\n",
              "          docLink.innerHTML = docLinkHtml;\n",
              "          element.appendChild(docLink);\n",
              "        }\n",
              "      </script>\n",
              "    </div>\n",
              "  </div>\n",
              "  "
            ]
          },
          "metadata": {},
          "execution_count": 7
        }
      ]
    },
    {
      "cell_type": "code",
      "metadata": {
        "id": "1cOGoM0noXUI",
        "colab": {
          "base_uri": "https://localhost:8080/",
          "height": 424
        },
        "outputId": "8ee273f7-3fdd-402d-ede6-798477daa7f9"
      },
      "source": [
        "df['date'] = df['full_date'].str[:10] # vengono presi solo i primi 10 caratteri\n",
        "df"
      ],
      "execution_count": 8,
      "outputs": [
        {
          "output_type": "execute_result",
          "data": {
            "text/plain": [
              "                          _id   user_id  message_length device_type  \\\n",
              "0    6197722d7e89d5c4381cc4c4  9a0f4@kp               9     android   \n",
              "1    6197722d7e89d5c4381cc515  96121@kp              10     android   \n",
              "2    6197722d7e89d5c4381cc550  9609a@kp              21     android   \n",
              "3    6197722d7e89d5c4381cc52f  9609a@kp              37     android   \n",
              "4    6197722d7e89d5c4381cc547  9679f@kp              30         web   \n",
              "..                        ...       ...             ...         ...   \n",
              "213  6197722d7e89d5c4381cc51b  9a0f4@kp              35     android   \n",
              "214  6197722d7e89d5c4381cc571  9a0f4@kp              22     android   \n",
              "215  6197722d7e89d5c4381cc58b  9609a@kp              10     android   \n",
              "216  6197722d7e89d5c4381cc520  9609a@kp              44     android   \n",
              "217  6197722d7e89d5c4381cc57e  9a0f4@kp              33     android   \n",
              "\n",
              "     has_media  has_links                 full_date        date  \n",
              "0        False      False  2021-11-11T09:18:28.132Z  2021-11-11  \n",
              "1        False      False  2021-11-12T14:07:52.605Z  2021-11-12  \n",
              "2        False      False  2021-11-15T08:45:21.652Z  2021-11-15  \n",
              "3        False      False  2021-11-14T12:14:44.295Z  2021-11-14  \n",
              "4        False      False  2021-11-14T20:27:33.310Z  2021-11-14  \n",
              "..         ...        ...                       ...         ...  \n",
              "213      False      False  2021-11-12T14:08:38.892Z  2021-11-12  \n",
              "214      False      False  2021-11-15T20:01:37.875Z  2021-11-15  \n",
              "215      False      False  2021-11-16T07:08:41.958Z  2021-11-16  \n",
              "216      False      False  2021-11-12T14:13:13.529Z  2021-11-12  \n",
              "217      False      False  2021-11-15T20:05:40.032Z  2021-11-15  \n",
              "\n",
              "[218 rows x 8 columns]"
            ],
            "text/html": [
              "\n",
              "  <div id=\"df-85e0d7ba-2555-49ff-becc-e260c4a87d18\">\n",
              "    <div class=\"colab-df-container\">\n",
              "      <div>\n",
              "<style scoped>\n",
              "    .dataframe tbody tr th:only-of-type {\n",
              "        vertical-align: middle;\n",
              "    }\n",
              "\n",
              "    .dataframe tbody tr th {\n",
              "        vertical-align: top;\n",
              "    }\n",
              "\n",
              "    .dataframe thead th {\n",
              "        text-align: right;\n",
              "    }\n",
              "</style>\n",
              "<table border=\"1\" class=\"dataframe\">\n",
              "  <thead>\n",
              "    <tr style=\"text-align: right;\">\n",
              "      <th></th>\n",
              "      <th>_id</th>\n",
              "      <th>user_id</th>\n",
              "      <th>message_length</th>\n",
              "      <th>device_type</th>\n",
              "      <th>has_media</th>\n",
              "      <th>has_links</th>\n",
              "      <th>full_date</th>\n",
              "      <th>date</th>\n",
              "    </tr>\n",
              "  </thead>\n",
              "  <tbody>\n",
              "    <tr>\n",
              "      <th>0</th>\n",
              "      <td>6197722d7e89d5c4381cc4c4</td>\n",
              "      <td>9a0f4@kp</td>\n",
              "      <td>9</td>\n",
              "      <td>android</td>\n",
              "      <td>False</td>\n",
              "      <td>False</td>\n",
              "      <td>2021-11-11T09:18:28.132Z</td>\n",
              "      <td>2021-11-11</td>\n",
              "    </tr>\n",
              "    <tr>\n",
              "      <th>1</th>\n",
              "      <td>6197722d7e89d5c4381cc515</td>\n",
              "      <td>96121@kp</td>\n",
              "      <td>10</td>\n",
              "      <td>android</td>\n",
              "      <td>False</td>\n",
              "      <td>False</td>\n",
              "      <td>2021-11-12T14:07:52.605Z</td>\n",
              "      <td>2021-11-12</td>\n",
              "    </tr>\n",
              "    <tr>\n",
              "      <th>2</th>\n",
              "      <td>6197722d7e89d5c4381cc550</td>\n",
              "      <td>9609a@kp</td>\n",
              "      <td>21</td>\n",
              "      <td>android</td>\n",
              "      <td>False</td>\n",
              "      <td>False</td>\n",
              "      <td>2021-11-15T08:45:21.652Z</td>\n",
              "      <td>2021-11-15</td>\n",
              "    </tr>\n",
              "    <tr>\n",
              "      <th>3</th>\n",
              "      <td>6197722d7e89d5c4381cc52f</td>\n",
              "      <td>9609a@kp</td>\n",
              "      <td>37</td>\n",
              "      <td>android</td>\n",
              "      <td>False</td>\n",
              "      <td>False</td>\n",
              "      <td>2021-11-14T12:14:44.295Z</td>\n",
              "      <td>2021-11-14</td>\n",
              "    </tr>\n",
              "    <tr>\n",
              "      <th>4</th>\n",
              "      <td>6197722d7e89d5c4381cc547</td>\n",
              "      <td>9679f@kp</td>\n",
              "      <td>30</td>\n",
              "      <td>web</td>\n",
              "      <td>False</td>\n",
              "      <td>False</td>\n",
              "      <td>2021-11-14T20:27:33.310Z</td>\n",
              "      <td>2021-11-14</td>\n",
              "    </tr>\n",
              "    <tr>\n",
              "      <th>...</th>\n",
              "      <td>...</td>\n",
              "      <td>...</td>\n",
              "      <td>...</td>\n",
              "      <td>...</td>\n",
              "      <td>...</td>\n",
              "      <td>...</td>\n",
              "      <td>...</td>\n",
              "      <td>...</td>\n",
              "    </tr>\n",
              "    <tr>\n",
              "      <th>213</th>\n",
              "      <td>6197722d7e89d5c4381cc51b</td>\n",
              "      <td>9a0f4@kp</td>\n",
              "      <td>35</td>\n",
              "      <td>android</td>\n",
              "      <td>False</td>\n",
              "      <td>False</td>\n",
              "      <td>2021-11-12T14:08:38.892Z</td>\n",
              "      <td>2021-11-12</td>\n",
              "    </tr>\n",
              "    <tr>\n",
              "      <th>214</th>\n",
              "      <td>6197722d7e89d5c4381cc571</td>\n",
              "      <td>9a0f4@kp</td>\n",
              "      <td>22</td>\n",
              "      <td>android</td>\n",
              "      <td>False</td>\n",
              "      <td>False</td>\n",
              "      <td>2021-11-15T20:01:37.875Z</td>\n",
              "      <td>2021-11-15</td>\n",
              "    </tr>\n",
              "    <tr>\n",
              "      <th>215</th>\n",
              "      <td>6197722d7e89d5c4381cc58b</td>\n",
              "      <td>9609a@kp</td>\n",
              "      <td>10</td>\n",
              "      <td>android</td>\n",
              "      <td>False</td>\n",
              "      <td>False</td>\n",
              "      <td>2021-11-16T07:08:41.958Z</td>\n",
              "      <td>2021-11-16</td>\n",
              "    </tr>\n",
              "    <tr>\n",
              "      <th>216</th>\n",
              "      <td>6197722d7e89d5c4381cc520</td>\n",
              "      <td>9609a@kp</td>\n",
              "      <td>44</td>\n",
              "      <td>android</td>\n",
              "      <td>False</td>\n",
              "      <td>False</td>\n",
              "      <td>2021-11-12T14:13:13.529Z</td>\n",
              "      <td>2021-11-12</td>\n",
              "    </tr>\n",
              "    <tr>\n",
              "      <th>217</th>\n",
              "      <td>6197722d7e89d5c4381cc57e</td>\n",
              "      <td>9a0f4@kp</td>\n",
              "      <td>33</td>\n",
              "      <td>android</td>\n",
              "      <td>False</td>\n",
              "      <td>False</td>\n",
              "      <td>2021-11-15T20:05:40.032Z</td>\n",
              "      <td>2021-11-15</td>\n",
              "    </tr>\n",
              "  </tbody>\n",
              "</table>\n",
              "<p>218 rows × 8 columns</p>\n",
              "</div>\n",
              "      <button class=\"colab-df-convert\" onclick=\"convertToInteractive('df-85e0d7ba-2555-49ff-becc-e260c4a87d18')\"\n",
              "              title=\"Convert this dataframe to an interactive table.\"\n",
              "              style=\"display:none;\">\n",
              "        \n",
              "  <svg xmlns=\"http://www.w3.org/2000/svg\" height=\"24px\"viewBox=\"0 0 24 24\"\n",
              "       width=\"24px\">\n",
              "    <path d=\"M0 0h24v24H0V0z\" fill=\"none\"/>\n",
              "    <path d=\"M18.56 5.44l.94 2.06.94-2.06 2.06-.94-2.06-.94-.94-2.06-.94 2.06-2.06.94zm-11 1L8.5 8.5l.94-2.06 2.06-.94-2.06-.94L8.5 2.5l-.94 2.06-2.06.94zm10 10l.94 2.06.94-2.06 2.06-.94-2.06-.94-.94-2.06-.94 2.06-2.06.94z\"/><path d=\"M17.41 7.96l-1.37-1.37c-.4-.4-.92-.59-1.43-.59-.52 0-1.04.2-1.43.59L10.3 9.45l-7.72 7.72c-.78.78-.78 2.05 0 2.83L4 21.41c.39.39.9.59 1.41.59.51 0 1.02-.2 1.41-.59l7.78-7.78 2.81-2.81c.8-.78.8-2.07 0-2.86zM5.41 20L4 18.59l7.72-7.72 1.47 1.35L5.41 20z\"/>\n",
              "  </svg>\n",
              "      </button>\n",
              "      \n",
              "  <style>\n",
              "    .colab-df-container {\n",
              "      display:flex;\n",
              "      flex-wrap:wrap;\n",
              "      gap: 12px;\n",
              "    }\n",
              "\n",
              "    .colab-df-convert {\n",
              "      background-color: #E8F0FE;\n",
              "      border: none;\n",
              "      border-radius: 50%;\n",
              "      cursor: pointer;\n",
              "      display: none;\n",
              "      fill: #1967D2;\n",
              "      height: 32px;\n",
              "      padding: 0 0 0 0;\n",
              "      width: 32px;\n",
              "    }\n",
              "\n",
              "    .colab-df-convert:hover {\n",
              "      background-color: #E2EBFA;\n",
              "      box-shadow: 0px 1px 2px rgba(60, 64, 67, 0.3), 0px 1px 3px 1px rgba(60, 64, 67, 0.15);\n",
              "      fill: #174EA6;\n",
              "    }\n",
              "\n",
              "    [theme=dark] .colab-df-convert {\n",
              "      background-color: #3B4455;\n",
              "      fill: #D2E3FC;\n",
              "    }\n",
              "\n",
              "    [theme=dark] .colab-df-convert:hover {\n",
              "      background-color: #434B5C;\n",
              "      box-shadow: 0px 1px 3px 1px rgba(0, 0, 0, 0.15);\n",
              "      filter: drop-shadow(0px 1px 2px rgba(0, 0, 0, 0.3));\n",
              "      fill: #FFFFFF;\n",
              "    }\n",
              "  </style>\n",
              "\n",
              "      <script>\n",
              "        const buttonEl =\n",
              "          document.querySelector('#df-85e0d7ba-2555-49ff-becc-e260c4a87d18 button.colab-df-convert');\n",
              "        buttonEl.style.display =\n",
              "          google.colab.kernel.accessAllowed ? 'block' : 'none';\n",
              "\n",
              "        async function convertToInteractive(key) {\n",
              "          const element = document.querySelector('#df-85e0d7ba-2555-49ff-becc-e260c4a87d18');\n",
              "          const dataTable =\n",
              "            await google.colab.kernel.invokeFunction('convertToInteractive',\n",
              "                                                     [key], {});\n",
              "          if (!dataTable) return;\n",
              "\n",
              "          const docLinkHtml = 'Like what you see? Visit the ' +\n",
              "            '<a target=\"_blank\" href=https://colab.research.google.com/notebooks/data_table.ipynb>data table notebook</a>'\n",
              "            + ' to learn more about interactive tables.';\n",
              "          element.innerHTML = '';\n",
              "          dataTable['output_type'] = 'display_data';\n",
              "          await google.colab.output.renderOutput(dataTable, element);\n",
              "          const docLink = document.createElement('div');\n",
              "          docLink.innerHTML = docLinkHtml;\n",
              "          element.appendChild(docLink);\n",
              "        }\n",
              "      </script>\n",
              "    </div>\n",
              "  </div>\n",
              "  "
            ]
          },
          "metadata": {},
          "execution_count": 8
        }
      ]
    },
    {
      "cell_type": "markdown",
      "metadata": {
        "id": "wOeL4PaQgNu5"
      },
      "source": [
        "2. Visualizzare il numero di messaggi inviati in una certa data inserita dall'utente. Se i messaggi sono superiori a 50 visualizzare il messaggio: \"Nel giorno <data> sono stati inviati ben <numeroMessaggi>\". Se invece ne sono stati inviati di meno, visualizzare il messaggio  \"Nel giorno <data> sono stati inviati solo <numeroMessaggi>\". Fare in modo che il programma continui a chiedere all'utente una data fino a quando l'utente non inserisce una data non presente nel dataframe."
      ]
    },
    {
      "cell_type": "code",
      "metadata": {
        "id": "AmLg3saOmcYp",
        "colab": {
          "base_uri": "https://localhost:8080/"
        },
        "outputId": "eebe1e6c-c79e-41df-bc33-97b55970b442"
      },
      "source": [
        "numeroMessaggi = 1\n",
        "while numeroMessaggi > 0:\n",
        "  data = str(input('Inserire una data: '))\n",
        "  numeroMessaggi = df[df['date'] == data]['message_length'].count()\n",
        "  numeroMessaggi\n",
        "  if numeroMessaggi > 50:\n",
        "    print('Nel giorno', data, 'sono stati inviati ben', numeroMessaggi)\n",
        "  else:\n",
        "    print('Nel giorno', data, 'sono stati inviati solo', numeroMessaggi)"
      ],
      "execution_count": 9,
      "outputs": [
        {
          "output_type": "stream",
          "name": "stdout",
          "text": [
            "Inserire una data: 2021-11-12\n",
            "Nel giorno 2021-11-12 sono stati inviati ben 62\n",
            "Inserire una data: 2021-11-15\n",
            "Nel giorno 2021-11-15 sono stati inviati ben 56\n",
            "Inserire una data: 2000-11-15\n",
            "Nel giorno 2000-11-15 sono stati inviati solo 0\n"
          ]
        }
      ]
    },
    {
      "cell_type": "markdown",
      "metadata": {
        "id": "wzpLk8Xag6r8"
      },
      "source": [
        "3. Visualizzare il giorno in cui sono stati inviati più messaggi."
      ]
    },
    {
      "cell_type": "code",
      "metadata": {
        "id": "Y-42Q6_pg_ru",
        "colab": {
          "base_uri": "https://localhost:8080/",
          "height": 35
        },
        "outputId": "e9e77d6c-5ba7-4bae-c351-c2bd0e8dcd15"
      },
      "source": [
        "# df.groupby('full_date')['user_id'].count().idxmax().split('T')[0]\n",
        "df.groupby('date')['user_id'].count().idxmax()"
      ],
      "execution_count": 10,
      "outputs": [
        {
          "output_type": "execute_result",
          "data": {
            "text/plain": [
              "'2021-11-12'"
            ],
            "application/vnd.google.colaboratory.intrinsic+json": {
              "type": "string"
            }
          },
          "metadata": {},
          "execution_count": 10
        }
      ]
    },
    {
      "cell_type": "markdown",
      "metadata": {
        "id": "adL7Bgo6g_42"
      },
      "source": [
        "Per gli esercizi seguenti, inserire sempre un titolo appropriato per il grafico e i nomi degli assi. Fare in modo che in ogni grafico i colori siano diversi. Fare in modo che le labels siano sempre chiaramente leggibili."
      ]
    },
    {
      "cell_type": "markdown",
      "metadata": {
        "id": "F08hTzlMhHYG"
      },
      "source": [
        "4. Visualizzare un grafico a barre verticali che visualizzi il numero di messaggi inviati nelle varie giornate."
      ]
    },
    {
      "cell_type": "code",
      "metadata": {
        "id": "wyWMuhzOhPjG",
        "colab": {
          "base_uri": "https://localhost:8080/",
          "height": 528
        },
        "outputId": "56a7d9ad-3566-4403-98a7-409d22149bf7"
      },
      "source": [
        "df1 = df.groupby('date').count()\n",
        "df1\n",
        "x = list(df1.index)\n",
        "y = list(df1['_id'])\n",
        "fig, ax = plt.subplots()\n",
        "fig.set_figwidth(12)\n",
        "fig.set_figheight(8)\n",
        "ax.set_title('Numero di messaggi inviati', fontsize = 20)\n",
        "ax.set_xlabel('Date', fontsize = 15)\n",
        "ax.set_ylabel('Messaggi inviati', fontsize = 15)\n",
        "ax.set_xticklabels(x, fontsize = 10)\n",
        "fig.autofmt_xdate(rotation = 90)\n",
        "ax.bar(x, y)\n",
        "plt.show()"
      ],
      "execution_count": 12,
      "outputs": [
        {
          "output_type": "display_data",
          "data": {
            "text/plain": [
              "<Figure size 864x576 with 1 Axes>"
            ],
            "image/png": "[encoded data removed]"
          },
          "metadata": {
            "needs_background": "light"
          }
        }
      ]
    },
    {
      "cell_type": "markdown",
      "metadata": {
        "id": "pBpZbUzzhQTm"
      },
      "source": [
        "5. Visualizzare un grafico a barre orizzontali con l'id dell'utente sulle ordinate e il numero di messaggi inviati sulle ascisse."
      ]
    },
    {
      "cell_type": "code",
      "metadata": {
        "id": "hePv4Bq7hZzW",
        "colab": {
          "base_uri": "https://localhost:8080/",
          "height": 632
        },
        "outputId": "be06af08-2b44-4cb9-d893-3b0db77199dc"
      },
      "source": [
        "df2 = df.groupby('user_id').count()\n",
        "df2\n",
        "\n",
        "x = list(df2.index)\n",
        "y = list(df2['_id'])\n",
        "id = df2.index.values.tolist()\n",
        "fig, ax = plt.subplots()\n",
        "fig.set_figwidth(15)\n",
        "fig.set_figheight(10)\n",
        "ax.set_title('Numero di messaggi inviati', fontsize = 20)\n",
        "ax.set_xlabel('Messaggi inviati', fontsize = 15)\n",
        "ax.set_ylabel('Id utente', fontsize = 15)\n",
        "ax.barh(x, y)\n",
        "plt.show()"
      ],
      "execution_count": 14,
      "outputs": [
        {
          "output_type": "display_data",
          "data": {
            "text/plain": [
              "<Figure size 1080x720 with 1 Axes>"
            ],
            "image/png": "[encoded data removed]"
          },
          "metadata": {
            "needs_background": "light"
          }
        }
      ]
    },
    {
      "cell_type": "markdown",
      "metadata": {
        "id": "5PX0Y_xMih1g"
      },
      "source": [
        "6. Visualizzare un grafico a torta che visualizzi, per ogni tipo di dispositivo, quanti utenti hanno inviato messaggi da quel tipo di dispositivo."
      ]
    },
    {
      "cell_type": "code",
      "metadata": {
        "id": "sIu7lI-aij7O",
        "colab": {
          "base_uri": "https://localhost:8080/",
          "height": 594
        },
        "outputId": "18cd6598-c2b7-4237-b1f2-8955748d6d2d"
      },
      "source": [
        "df3 = df['device_type'].value_counts()\n",
        "labels = df3.index.values.tolist()\n",
        "num = df3.tolist()\n",
        "fig, ax = plt.subplots()\n",
        "fig.set_figwidth(15)\n",
        "fig.set_figheight(10)\n",
        "ax.set_title('Messaggi inviati dai diversi dispositivi', fontsize = 17)\n",
        "ax.pie(num, autopct = '%1.2f%%')\n",
        "ax.legend(labels)\n",
        "plt.show()"
      ],
      "execution_count": 16,
      "outputs": [
        {
          "output_type": "display_data",
          "data": {
            "text/plain": [
              "<Figure size 1080x720 with 1 Axes>"
            ],
            "image/png": "[encoded data removed]"
          },
          "metadata": {}
        }
      ]
    },
    {
      "cell_type": "markdown",
      "metadata": {
        "id": "lTvmxhp_imp-"
      },
      "source": [
        "7. Visualizzare le stesse informazioni dell'esercizio 6 utilizzando un grafico TreeMap."
      ]
    },
    {
      "cell_type": "code",
      "metadata": {
        "id": "KNlLhqzVk6TZ"
      },
      "source": [
        "!pip install squarify"
      ],
      "execution_count": null,
      "outputs": []
    },
    {
      "cell_type": "code",
      "metadata": {
        "id": "rDWHEp1yio9O",
        "colab": {
          "base_uri": "https://localhost:8080/",
          "height": 466
        },
        "outputId": "51ccd73c-38ee-44d7-9727-54106ab23121"
      },
      "source": [
        "import squarify\n",
        "\n",
        "df4 = df.groupby('device_type').count()\n",
        "df4\n",
        "\n",
        "labels = list(df4.index)\n",
        "sizes = list(df4['_id'])\n",
        "\n",
        "fig, ax = plt.subplots(figsize = (10, 8))\n",
        "plt.rc('font', size = 20)\n",
        "squarify.plot(sizes = sizes, label=labels, alpha = .8 )\n",
        "plt.axis('off')\n",
        "plt.show()"
      ],
      "execution_count": 18,
      "outputs": [
        {
          "output_type": "display_data",
          "data": {
            "text/plain": [
              "<Figure size 720x576 with 1 Axes>"
            ],
            "image/png": "[encoded data removed]"
          },
          "metadata": {
            "needs_background": "light"
          }
        }
      ]
    },
    {
      "cell_type": "markdown",
      "metadata": {
        "id": "cvBit-NUiuGO"
      },
      "source": [
        "8. Visualizzare un grafico con gli utenti sulle ascisse e sulle ordinate, per ogni utente, i messaggi di solo testo, quelli con link e quelli con media. Il grafico deve essere analogo a quello riportato al link https://matplotlib.org/stable/gallery/lines_bars_and_markers/bar_stacked.html#sphx-glr-gallery-lines-bars-and-markers-bar-stacked-py"
      ]
    },
    {
      "cell_type": "code",
      "metadata": {
        "id": "YRAgecvziw0W"
      },
      "source": [
        "# con contenuti multimediali\n",
        "media = df.groupby(\"user_id\")['has_media'].apply(lambda x: x[x == True].count()).tolist()\n",
        "# con link\n",
        "link = df.groupby(\"user_id\")['has_links'].apply(lambda x: x[x == True].count()).tolist()\n",
        "# solo testo\n",
        "txt = df.groupby(\"user_id\")['has_media'].apply(lambda x: x[x == False].count()).tolist()"
      ],
      "execution_count": 19,
      "outputs": []
    },
    {
      "cell_type": "code",
      "metadata": {
        "id": "ymuG26Tztl0S",
        "colab": {
          "base_uri": "https://localhost:8080/",
          "height": 276
        },
        "outputId": "6e7f5d6e-38a3-49de-d0f4-11f012378013"
      },
      "source": [
        "width = 0.35       # the width of the bars: can also be len(x) sequence\n",
        "\n",
        "fig, ax = plt.subplots()\n",
        "\n",
        "ax.bar(id, txt)\n",
        "ax.bar(id, media)\n",
        "ax.bar(id, link)\n",
        "\n",
        "labels = ['testo', 'media', 'link']\n",
        "ax.set_xlabel('Gender')\n",
        "ax.set_ylabel('Scores')\n",
        "ax.set_title('Scores by group and gender')\n",
        "ax.legend(labels)\n",
        "fig.tight_layout()\n",
        "plt.show()"
      ],
      "execution_count": 27,
      "outputs": [
        {
          "output_type": "display_data",
          "data": {
            "text/plain": [
              "<Figure size 432x288 with 1 Axes>"
            ],
            "image/png": "[encoded data removed]"
          },
          "metadata": {
            "needs_background": "light"
          }
        }
      ]
    },
    {
      "cell_type": "markdown",
      "metadata": {
        "id": "FLz8zEIzixtG"
      },
      "source": [
        "9. Visualizzare le stesse informazioni del grafico precedente ma utilizzando un grafico analogo a quello presente al link https://matplotlib.org/stable/gallery/lines_bars_and_markers/barchart.html#sphx-glr-gallery-lines-bars-and-markers-barchart-py"
      ]
    },
    {
      "cell_type": "code",
      "metadata": {
        "id": "l0VvOmD_i11m",
        "colab": {
          "base_uri": "https://localhost:8080/",
          "height": 365
        },
        "outputId": "8a25e185-dd15-483f-ae7d-6abed63f6140"
      },
      "source": [
        "x = np.arange(len(id))  # the label locations\n",
        "width = 0.35  # the width of the bars\n",
        "\n",
        "fig, ax = plt.subplots()\n",
        "rects1 = ax.bar(x - width, txt, width, label = 'Men')\n",
        "rects2 = ax.bar(width, media, width, label = 'Men')\n",
        "rects3 = ax.bar(x + width, link, width, label = 'Women')\n",
        "\n",
        "ax.set_xticks(x, labels)\n",
        "ax.legend(labels)\n",
        "fig.tight_layout()\n",
        "ax.set_xticks(x, id)\n",
        "plt.show()"
      ],
      "execution_count": 28,
      "outputs": [
        {
          "output_type": "stream",
          "name": "stderr",
          "text": [
            "/usr/local/lib/python3.7/dist-packages/ipykernel_launcher.py:9: MatplotlibDeprecationWarning: Passing the minor parameter of set_xticks() positionally is deprecated since Matplotlib 3.2; the parameter will become keyword-only two minor releases later.\n",
            "  if __name__ == '__main__':\n",
            "/usr/local/lib/python3.7/dist-packages/ipykernel_launcher.py:12: MatplotlibDeprecationWarning: Passing the minor parameter of set_xticks() positionally is deprecated since Matplotlib 3.2; the parameter will become keyword-only two minor releases later.\n",
            "  if sys.path[0] == '':\n"
          ]
        },
        {
          "output_type": "display_data",
          "data": {
            "text/plain": [
              "<Figure size 432x288 with 1 Axes>"
            ],
            "image/png": "[encoded data removed]"
          },
          "metadata": {
            "needs_background": "light"
          }
        }
      ]
    }
  ]
}