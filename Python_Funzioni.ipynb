{
  "nbformat": 4,
  "nbformat_minor": 0,
  "metadata": {
    "colab": {
      "name": "Copia di Esercizio funzioni",
      "provenance": [],
      "collapsed_sections": []
    },
    "kernelspec": {
      "name": "python3",
      "display_name": "Python 3"
    },
    "language_info": {
      "name": "python"
    }
  },
  "cells": [
    {
      "cell_type": "markdown",
      "metadata": {
        "id": "25pMPWS7YsHN"
      },
      "source": [
        "Scrivere una funzione chiamata media che dati due numeri restituisca la media. Utilizzare poi la funzione in un programma che acquisisca dall'utente due numeri e calcoli la media."
      ]
    },
    {
      "cell_type": "code",
      "metadata": {
        "id": "qo3KH0hhYuGL"
      },
      "source": [
        "# definizione funzioni\n",
        "def media(x, y):\n",
        "  return (x+y)/2\n",
        "\n",
        "# programma\n",
        "n1 = int(input(\"Inserire il primo numero: \"))\n",
        "n2 = int(input(\"Inserire il secondo numero: \"))\n",
        "print(media(n1, n2))\n",
        "\n",
        "# lambda function\n",
        "media2 = lambda x, y : (x+y)/2\n",
        "print(media2(n1, n2))"
      ],
      "execution_count": null,
      "outputs": []
    },
    {
      "cell_type": "markdown",
      "metadata": {
        "id": "hhHyYcLjYuUZ"
      },
      "source": [
        "Scrivere una funzione chiamata piuCorta che date due liste restituisca la lista con meno elementi. Utilizzare poi la funzione in un programma che acquisisca dall'utente due liste e visualizzi gli elementi della lista più corta."
      ]
    },
    {
      "cell_type": "code",
      "metadata": {
        "id": "0r_jFL30YyiG"
      },
      "source": [
        "def piuCorta(lst, lst1):\n",
        "  if len(lst) < len(lst1):\n",
        "    return lst\n",
        "  else:\n",
        "    return lst1\n",
        "lst1 = [int(n) for n in input(\"Inserire i numeri nella prima lista: \").split()]\n",
        "lst2 = [int(n) for n in input(\"Inserire i numeri nella seconda lista: \").split()]\n",
        "print(piuCorta(lst1, lst2))"
      ],
      "execution_count": null,
      "outputs": []
    },
    {
      "cell_type": "markdown",
      "metadata": {
        "id": "NE7S_vm2Y1p_"
      },
      "source": [
        "Scrivere una funzione chiamata costruisciLista che dati due numeri interi restituisca la lista formata da tutti i numeri interi compresi tra i due numeri dati. Utilizzare poi la funzione in un programma che acquisisca dall'utente due numeri e visualizzi la lista formata da tutti i numeri interi compresi tra i due numeri dati ma a partire dal più grande fino al più piccolo."
      ]
    },
    {
      "cell_type": "code",
      "metadata": {
        "id": "TkdO25f5Y455"
      },
      "source": [
        "def costruisciLista(n1, n2):\n",
        "  lst = [(n) for n in range(n1, n2+1)]\n",
        "  lst.append(n)\n",
        "  return lst\n",
        "n1 = int(input(\"Inserire il primo numero: \"))\n",
        "n2 = int(input(\"Inserire il secondo numero: \"))\n",
        "print(costruisciLista(lst1.reverse()))"
      ],
      "execution_count": null,
      "outputs": []
    },
    {
      "cell_type": "markdown",
      "metadata": {
        "id": "2StsocXfY5HK"
      },
      "source": [
        "Scrivere una funzione chiamata valoreAssoluto che dato un numero restituisca il suo valore assoluto. Utilizzare poi questa funzione per determinare il valore assoluto degli elementi di una lista inserita dall'utente."
      ]
    },
    {
      "cell_type": "code",
      "metadata": {
        "id": "bFmSLiGjY8mh"
      },
      "source": [
        "def valoreAssoluto(n):\n",
        " lst =  [abs(n) for n in lst]\n",
        "lst1 = [int(n) for n in input(\"Inserire i numeri nella prima lista: \").split()]\n",
        "lst1 =  [abs(n) for n in lst1] # ciclo che considera il valore assoluto dei valori nella lista\n",
        "print(lst1)"
      ],
      "execution_count": null,
      "outputs": []
    },
    {
      "cell_type": "markdown",
      "metadata": {
        "id": "2TQQesGXZAdM"
      },
      "source": [
        "Scrivere una funzione lambda che dati due numeri calcoli la loro somma. Utilizzare la funzione in un programma che chieda all'utente due numeri interi e visualizzi la loro somma."
      ]
    },
    {
      "cell_type": "code",
      "metadata": {
        "id": "5pl3XoHJZKbW"
      },
      "source": [
        "somma = lambda x, y: x+y\n",
        "n1 = int(input(\"Inserire il primo numero: \"))\n",
        "n2 = int(input(\"Inserire il secondo numero: \"))\n",
        "print(\"Somma:\", somma(n1, n2))"
      ],
      "execution_count": null,
      "outputs": []
    },
    {
      "cell_type": "markdown",
      "metadata": {
        "id": "IZ9BE3eeZKkz"
      },
      "source": [
        "Scrivere un programma che utilizzi una lambda function per aumentare di 10 unità tutti gli elementi di una lista di interi inserita dall'utente."
      ]
    },
    {
      "cell_type": "code",
      "metadata": {
        "id": "Ewe3_lSLZMsP"
      },
      "source": [
        "lst1 = [int(n) for n in input(\"Inserire i numeri nella prima lista: \").split()]\n",
        "incremento = [(lambda x: x+10) (x) for x in lst1]\n",
        "print(incremento)"
      ],
      "execution_count": null,
      "outputs": []
    },
    {
      "cell_type": "markdown",
      "metadata": {
        "id": "wbYVL24MZM3k"
      },
      "source": [
        "Scrivere una funzione lambda che sostituisca il valore 0 se il parametro è negativo, il valore del parametro se è positivo. Utilizzare poi la funzione in un programma che chieda all'utente i 10 elementi di una lista e visualizzi la lista con il valore 0 al posto dei numeri negativi."
      ]
    },
    {
      "cell_type": "code",
      "metadata": {
        "id": "WFHqW3vIZQF7"
      },
      "source": [
        "lst1 = [int(input(\"Inserire un valore: \")) for x in range(10)]\n",
        "for i in range(len(lst1)):\n",
        "    if lst1[i] < 0:\n",
        "        lst1[i] = 0\n",
        "print(lst1)\n",
        "# replace = lambda x: True if x<0 else False"
      ],
      "execution_count": null,
      "outputs": []
    }
  ]
}