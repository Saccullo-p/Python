{
  "nbformat": 4,
  "nbformat_minor": 0,
  "metadata": {
    "colab": {
      "name": "Preparazione verifica.ipynb",
      "provenance": [],
      "collapsed_sections": []
    },
    "kernelspec": {
      "name": "python3",
      "display_name": "Python 3"
    },
    "language_info": {
      "name": "python"
    }
  },
  "cells": [
    {
      "cell_type": "code",
      "metadata": {
        "id": "y8SD-2TImWxt"
      },
      "source": [
        "import pandas as pd\n",
        "df = pd.read_csv(\"https://raw.githubusercontent.com/italia/covid19-opendata-vaccini/master/dati/anagrafica-vaccini-summary-latest.csv\") # df = pd.read_csv(\"file_name\", sep = \";\")"
      ],
      "execution_count": 1,
      "outputs": []
    },
    {
      "cell_type": "code",
      "metadata": {
        "colab": {
          "base_uri": "https://localhost:8080/",
          "height": 332
        },
        "id": "o52u65pDnhzV",
        "outputId": "d7645f5f-a851-4655-d300-2c07eca730cb"
      },
      "source": [
        "df"
      ],
      "execution_count": 2,
      "outputs": [
        {
          "output_type": "execute_result",
          "data": {
            "text/html": [
              "<div>\n",
              "<style scoped>\n",
              "    .dataframe tbody tr th:only-of-type {\n",
              "        vertical-align: middle;\n",
              "    }\n",
              "\n",
              "    .dataframe tbody tr th {\n",
              "        vertical-align: top;\n",
              "    }\n",
              "\n",
              "    .dataframe thead th {\n",
              "        text-align: right;\n",
              "    }\n",
              "</style>\n",
              "<table border=\"1\" class=\"dataframe\">\n",
              "  <thead>\n",
              "    <tr style=\"text-align: right;\">\n",
              "      <th></th>\n",
              "      <th>fascia_anagrafica</th>\n",
              "      <th>totale</th>\n",
              "      <th>sesso_maschile</th>\n",
              "      <th>sesso_femminile</th>\n",
              "      <th>prima_dose</th>\n",
              "      <th>seconda_dose</th>\n",
              "      <th>pregressa_infezione</th>\n",
              "      <th>dose_addizionale_booster</th>\n",
              "      <th>ultimo_aggiornamento</th>\n",
              "    </tr>\n",
              "  </thead>\n",
              "  <tbody>\n",
              "    <tr>\n",
              "      <th>0</th>\n",
              "      <td>12-19</td>\n",
              "      <td>6780578</td>\n",
              "      <td>3481693</td>\n",
              "      <td>3298885</td>\n",
              "      <td>3497909</td>\n",
              "      <td>3131356</td>\n",
              "      <td>112288</td>\n",
              "      <td>39025</td>\n",
              "      <td>2021-12-13</td>\n",
              "    </tr>\n",
              "    <tr>\n",
              "      <th>1</th>\n",
              "      <td>20-29</td>\n",
              "      <td>10702806</td>\n",
              "      <td>5563852</td>\n",
              "      <td>5138954</td>\n",
              "      <td>5222821</td>\n",
              "      <td>4831931</td>\n",
              "      <td>202753</td>\n",
              "      <td>445301</td>\n",
              "      <td>2021-12-13</td>\n",
              "    </tr>\n",
              "    <tr>\n",
              "      <th>2</th>\n",
              "      <td>30-39</td>\n",
              "      <td>11619929</td>\n",
              "      <td>5916365</td>\n",
              "      <td>5703564</td>\n",
              "      <td>5597697</td>\n",
              "      <td>5178047</td>\n",
              "      <td>207033</td>\n",
              "      <td>637152</td>\n",
              "      <td>2021-12-13</td>\n",
              "    </tr>\n",
              "    <tr>\n",
              "      <th>3</th>\n",
              "      <td>40-49</td>\n",
              "      <td>15289824</td>\n",
              "      <td>7540367</td>\n",
              "      <td>7749457</td>\n",
              "      <td>7159581</td>\n",
              "      <td>6679659</td>\n",
              "      <td>284342</td>\n",
              "      <td>1166242</td>\n",
              "      <td>2021-12-13</td>\n",
              "    </tr>\n",
              "    <tr>\n",
              "      <th>4</th>\n",
              "      <td>50-59</td>\n",
              "      <td>18114488</td>\n",
              "      <td>8847598</td>\n",
              "      <td>9266890</td>\n",
              "      <td>8172210</td>\n",
              "      <td>7549260</td>\n",
              "      <td>338260</td>\n",
              "      <td>2054758</td>\n",
              "      <td>2021-12-13</td>\n",
              "    </tr>\n",
              "    <tr>\n",
              "      <th>5</th>\n",
              "      <td>60-69</td>\n",
              "      <td>15126565</td>\n",
              "      <td>7366119</td>\n",
              "      <td>7760446</td>\n",
              "      <td>6628943</td>\n",
              "      <td>6047707</td>\n",
              "      <td>231473</td>\n",
              "      <td>2218442</td>\n",
              "      <td>2021-12-13</td>\n",
              "    </tr>\n",
              "    <tr>\n",
              "      <th>6</th>\n",
              "      <td>70-79</td>\n",
              "      <td>13031075</td>\n",
              "      <td>6177209</td>\n",
              "      <td>6853866</td>\n",
              "      <td>5445690</td>\n",
              "      <td>5200928</td>\n",
              "      <td>158160</td>\n",
              "      <td>2226297</td>\n",
              "      <td>2021-12-13</td>\n",
              "    </tr>\n",
              "    <tr>\n",
              "      <th>7</th>\n",
              "      <td>80-89</td>\n",
              "      <td>9305282</td>\n",
              "      <td>3885648</td>\n",
              "      <td>5419634</td>\n",
              "      <td>3472117</td>\n",
              "      <td>3403526</td>\n",
              "      <td>76460</td>\n",
              "      <td>2353179</td>\n",
              "      <td>2021-12-13</td>\n",
              "    </tr>\n",
              "    <tr>\n",
              "      <th>8</th>\n",
              "      <td>90+</td>\n",
              "      <td>2058760</td>\n",
              "      <td>614229</td>\n",
              "      <td>1444531</td>\n",
              "      <td>801487</td>\n",
              "      <td>772515</td>\n",
              "      <td>19814</td>\n",
              "      <td>464944</td>\n",
              "      <td>2021-12-13</td>\n",
              "    </tr>\n",
              "  </tbody>\n",
              "</table>\n",
              "</div>"
            ],
            "text/plain": [
              "  fascia_anagrafica    totale  ...  dose_addizionale_booster  ultimo_aggiornamento\n",
              "0             12-19   6780578  ...                     39025            2021-12-13\n",
              "1             20-29  10702806  ...                    445301            2021-12-13\n",
              "2             30-39  11619929  ...                    637152            2021-12-13\n",
              "3             40-49  15289824  ...                   1166242            2021-12-13\n",
              "4             50-59  18114488  ...                   2054758            2021-12-13\n",
              "5             60-69  15126565  ...                   2218442            2021-12-13\n",
              "6             70-79  13031075  ...                   2226297            2021-12-13\n",
              "7             80-89   9305282  ...                   2353179            2021-12-13\n",
              "8               90+   2058760  ...                    464944            2021-12-13\n",
              "\n",
              "[9 rows x 9 columns]"
            ]
          },
          "metadata": {},
          "execution_count": 2
        }
      ]
    },
    {
      "cell_type": "markdown",
      "metadata": {
        "id": "LJ6JHKNjnlz0"
      },
      "source": [
        "Aggiungere una nuova colonna chiamata \"percentuale_maschi\", che contenga la percentuale di maschi vaccinati."
      ]
    },
    {
      "cell_type": "code",
      "metadata": {
        "id": "kr4xbrD0nsN-",
        "outputId": "37b23999-e17f-44b1-cd85-fa805d2682c8",
        "colab": {
          "base_uri": "https://localhost:8080/",
          "height": 332
        }
      },
      "source": [
        "df['percentuale_maschi'] = df['sesso_maschile']/df['totale']*100\n",
        "df"
      ],
      "execution_count": 3,
      "outputs": [
        {
          "output_type": "execute_result",
          "data": {
            "text/html": [
              "<div>\n",
              "<style scoped>\n",
              "    .dataframe tbody tr th:only-of-type {\n",
              "        vertical-align: middle;\n",
              "    }\n",
              "\n",
              "    .dataframe tbody tr th {\n",
              "        vertical-align: top;\n",
              "    }\n",
              "\n",
              "    .dataframe thead th {\n",
              "        text-align: right;\n",
              "    }\n",
              "</style>\n",
              "<table border=\"1\" class=\"dataframe\">\n",
              "  <thead>\n",
              "    <tr style=\"text-align: right;\">\n",
              "      <th></th>\n",
              "      <th>fascia_anagrafica</th>\n",
              "      <th>totale</th>\n",
              "      <th>sesso_maschile</th>\n",
              "      <th>sesso_femminile</th>\n",
              "      <th>prima_dose</th>\n",
              "      <th>seconda_dose</th>\n",
              "      <th>pregressa_infezione</th>\n",
              "      <th>dose_addizionale_booster</th>\n",
              "      <th>ultimo_aggiornamento</th>\n",
              "      <th>percentuale_maschi</th>\n",
              "    </tr>\n",
              "  </thead>\n",
              "  <tbody>\n",
              "    <tr>\n",
              "      <th>0</th>\n",
              "      <td>12-19</td>\n",
              "      <td>6780578</td>\n",
              "      <td>3481693</td>\n",
              "      <td>3298885</td>\n",
              "      <td>3497909</td>\n",
              "      <td>3131356</td>\n",
              "      <td>112288</td>\n",
              "      <td>39025</td>\n",
              "      <td>2021-12-13</td>\n",
              "      <td>51.348027</td>\n",
              "    </tr>\n",
              "    <tr>\n",
              "      <th>1</th>\n",
              "      <td>20-29</td>\n",
              "      <td>10702806</td>\n",
              "      <td>5563852</td>\n",
              "      <td>5138954</td>\n",
              "      <td>5222821</td>\n",
              "      <td>4831931</td>\n",
              "      <td>202753</td>\n",
              "      <td>445301</td>\n",
              "      <td>2021-12-13</td>\n",
              "      <td>51.984984</td>\n",
              "    </tr>\n",
              "    <tr>\n",
              "      <th>2</th>\n",
              "      <td>30-39</td>\n",
              "      <td>11619929</td>\n",
              "      <td>5916365</td>\n",
              "      <td>5703564</td>\n",
              "      <td>5597697</td>\n",
              "      <td>5178047</td>\n",
              "      <td>207033</td>\n",
              "      <td>637152</td>\n",
              "      <td>2021-12-13</td>\n",
              "      <td>50.915673</td>\n",
              "    </tr>\n",
              "    <tr>\n",
              "      <th>3</th>\n",
              "      <td>40-49</td>\n",
              "      <td>15289824</td>\n",
              "      <td>7540367</td>\n",
              "      <td>7749457</td>\n",
              "      <td>7159581</td>\n",
              "      <td>6679659</td>\n",
              "      <td>284342</td>\n",
              "      <td>1166242</td>\n",
              "      <td>2021-12-13</td>\n",
              "      <td>49.316245</td>\n",
              "    </tr>\n",
              "    <tr>\n",
              "      <th>4</th>\n",
              "      <td>50-59</td>\n",
              "      <td>18114488</td>\n",
              "      <td>8847598</td>\n",
              "      <td>9266890</td>\n",
              "      <td>8172210</td>\n",
              "      <td>7549260</td>\n",
              "      <td>338260</td>\n",
              "      <td>2054758</td>\n",
              "      <td>2021-12-13</td>\n",
              "      <td>48.842661</td>\n",
              "    </tr>\n",
              "    <tr>\n",
              "      <th>5</th>\n",
              "      <td>60-69</td>\n",
              "      <td>15126565</td>\n",
              "      <td>7366119</td>\n",
              "      <td>7760446</td>\n",
              "      <td>6628943</td>\n",
              "      <td>6047707</td>\n",
              "      <td>231473</td>\n",
              "      <td>2218442</td>\n",
              "      <td>2021-12-13</td>\n",
              "      <td>48.696575</td>\n",
              "    </tr>\n",
              "    <tr>\n",
              "      <th>6</th>\n",
              "      <td>70-79</td>\n",
              "      <td>13031075</td>\n",
              "      <td>6177209</td>\n",
              "      <td>6853866</td>\n",
              "      <td>5445690</td>\n",
              "      <td>5200928</td>\n",
              "      <td>158160</td>\n",
              "      <td>2226297</td>\n",
              "      <td>2021-12-13</td>\n",
              "      <td>47.403679</td>\n",
              "    </tr>\n",
              "    <tr>\n",
              "      <th>7</th>\n",
              "      <td>80-89</td>\n",
              "      <td>9305282</td>\n",
              "      <td>3885648</td>\n",
              "      <td>5419634</td>\n",
              "      <td>3472117</td>\n",
              "      <td>3403526</td>\n",
              "      <td>76460</td>\n",
              "      <td>2353179</td>\n",
              "      <td>2021-12-13</td>\n",
              "      <td>41.757445</td>\n",
              "    </tr>\n",
              "    <tr>\n",
              "      <th>8</th>\n",
              "      <td>90+</td>\n",
              "      <td>2058760</td>\n",
              "      <td>614229</td>\n",
              "      <td>1444531</td>\n",
              "      <td>801487</td>\n",
              "      <td>772515</td>\n",
              "      <td>19814</td>\n",
              "      <td>464944</td>\n",
              "      <td>2021-12-13</td>\n",
              "      <td>29.834901</td>\n",
              "    </tr>\n",
              "  </tbody>\n",
              "</table>\n",
              "</div>"
            ],
            "text/plain": [
              "  fascia_anagrafica    totale  ...  ultimo_aggiornamento  percentuale_maschi\n",
              "0             12-19   6780578  ...            2021-12-13           51.348027\n",
              "1             20-29  10702806  ...            2021-12-13           51.984984\n",
              "2             30-39  11619929  ...            2021-12-13           50.915673\n",
              "3             40-49  15289824  ...            2021-12-13           49.316245\n",
              "4             50-59  18114488  ...            2021-12-13           48.842661\n",
              "5             60-69  15126565  ...            2021-12-13           48.696575\n",
              "6             70-79  13031075  ...            2021-12-13           47.403679\n",
              "7             80-89   9305282  ...            2021-12-13           41.757445\n",
              "8               90+   2058760  ...            2021-12-13           29.834901\n",
              "\n",
              "[9 rows x 10 columns]"
            ]
          },
          "metadata": {},
          "execution_count": 3
        }
      ]
    },
    {
      "cell_type": "markdown",
      "metadata": {
        "id": "tk3pRaANp8Wo"
      },
      "source": [
        "Visualizzare il numero totale di persone vaccinate con la seconda dose."
      ]
    },
    {
      "cell_type": "code",
      "metadata": {
        "id": "cWgBD-dqp_IJ",
        "outputId": "01e991f6-bdc7-458e-a39d-8948f82806a5",
        "colab": {
          "base_uri": "https://localhost:8080/"
        }
      },
      "source": [
        "print(\"Totale vaccinati con la seconda dose:\", df['seconda_dose'].sum())"
      ],
      "execution_count": 4,
      "outputs": [
        {
          "output_type": "stream",
          "name": "stdout",
          "text": [
            "Totale vaccinati con la seconda dose: 42794929\n"
          ]
        }
      ]
    },
    {
      "cell_type": "markdown",
      "metadata": {
        "id": "cGeXmCS7rcMA"
      },
      "source": [
        "Eliminare le colonne \"sesso_maschile\" e \"sesso_femminile\"."
      ]
    },
    {
      "cell_type": "code",
      "metadata": {
        "id": "ijuQH_ANrgr_",
        "outputId": "f8a96ec7-801a-4921-f488-0347a84d8c42",
        "colab": {
          "base_uri": "https://localhost:8080/",
          "height": 332
        }
      },
      "source": [
        "df = df.drop(columns=['sesso_maschile', 'sesso_femminile'])\n",
        "df"
      ],
      "execution_count": 5,
      "outputs": [
        {
          "output_type": "execute_result",
          "data": {
            "text/html": [
              "<div>\n",
              "<style scoped>\n",
              "    .dataframe tbody tr th:only-of-type {\n",
              "        vertical-align: middle;\n",
              "    }\n",
              "\n",
              "    .dataframe tbody tr th {\n",
              "        vertical-align: top;\n",
              "    }\n",
              "\n",
              "    .dataframe thead th {\n",
              "        text-align: right;\n",
              "    }\n",
              "</style>\n",
              "<table border=\"1\" class=\"dataframe\">\n",
              "  <thead>\n",
              "    <tr style=\"text-align: right;\">\n",
              "      <th></th>\n",
              "      <th>fascia_anagrafica</th>\n",
              "      <th>totale</th>\n",
              "      <th>prima_dose</th>\n",
              "      <th>seconda_dose</th>\n",
              "      <th>pregressa_infezione</th>\n",
              "      <th>dose_addizionale_booster</th>\n",
              "      <th>ultimo_aggiornamento</th>\n",
              "      <th>percentuale_maschi</th>\n",
              "    </tr>\n",
              "  </thead>\n",
              "  <tbody>\n",
              "    <tr>\n",
              "      <th>0</th>\n",
              "      <td>12-19</td>\n",
              "      <td>6780578</td>\n",
              "      <td>3497909</td>\n",
              "      <td>3131356</td>\n",
              "      <td>112288</td>\n",
              "      <td>39025</td>\n",
              "      <td>2021-12-13</td>\n",
              "      <td>51.348027</td>\n",
              "    </tr>\n",
              "    <tr>\n",
              "      <th>1</th>\n",
              "      <td>20-29</td>\n",
              "      <td>10702806</td>\n",
              "      <td>5222821</td>\n",
              "      <td>4831931</td>\n",
              "      <td>202753</td>\n",
              "      <td>445301</td>\n",
              "      <td>2021-12-13</td>\n",
              "      <td>51.984984</td>\n",
              "    </tr>\n",
              "    <tr>\n",
              "      <th>2</th>\n",
              "      <td>30-39</td>\n",
              "      <td>11619929</td>\n",
              "      <td>5597697</td>\n",
              "      <td>5178047</td>\n",
              "      <td>207033</td>\n",
              "      <td>637152</td>\n",
              "      <td>2021-12-13</td>\n",
              "      <td>50.915673</td>\n",
              "    </tr>\n",
              "    <tr>\n",
              "      <th>3</th>\n",
              "      <td>40-49</td>\n",
              "      <td>15289824</td>\n",
              "      <td>7159581</td>\n",
              "      <td>6679659</td>\n",
              "      <td>284342</td>\n",
              "      <td>1166242</td>\n",
              "      <td>2021-12-13</td>\n",
              "      <td>49.316245</td>\n",
              "    </tr>\n",
              "    <tr>\n",
              "      <th>4</th>\n",
              "      <td>50-59</td>\n",
              "      <td>18114488</td>\n",
              "      <td>8172210</td>\n",
              "      <td>7549260</td>\n",
              "      <td>338260</td>\n",
              "      <td>2054758</td>\n",
              "      <td>2021-12-13</td>\n",
              "      <td>48.842661</td>\n",
              "    </tr>\n",
              "    <tr>\n",
              "      <th>5</th>\n",
              "      <td>60-69</td>\n",
              "      <td>15126565</td>\n",
              "      <td>6628943</td>\n",
              "      <td>6047707</td>\n",
              "      <td>231473</td>\n",
              "      <td>2218442</td>\n",
              "      <td>2021-12-13</td>\n",
              "      <td>48.696575</td>\n",
              "    </tr>\n",
              "    <tr>\n",
              "      <th>6</th>\n",
              "      <td>70-79</td>\n",
              "      <td>13031075</td>\n",
              "      <td>5445690</td>\n",
              "      <td>5200928</td>\n",
              "      <td>158160</td>\n",
              "      <td>2226297</td>\n",
              "      <td>2021-12-13</td>\n",
              "      <td>47.403679</td>\n",
              "    </tr>\n",
              "    <tr>\n",
              "      <th>7</th>\n",
              "      <td>80-89</td>\n",
              "      <td>9305282</td>\n",
              "      <td>3472117</td>\n",
              "      <td>3403526</td>\n",
              "      <td>76460</td>\n",
              "      <td>2353179</td>\n",
              "      <td>2021-12-13</td>\n",
              "      <td>41.757445</td>\n",
              "    </tr>\n",
              "    <tr>\n",
              "      <th>8</th>\n",
              "      <td>90+</td>\n",
              "      <td>2058760</td>\n",
              "      <td>801487</td>\n",
              "      <td>772515</td>\n",
              "      <td>19814</td>\n",
              "      <td>464944</td>\n",
              "      <td>2021-12-13</td>\n",
              "      <td>29.834901</td>\n",
              "    </tr>\n",
              "  </tbody>\n",
              "</table>\n",
              "</div>"
            ],
            "text/plain": [
              "  fascia_anagrafica    totale  ...  ultimo_aggiornamento  percentuale_maschi\n",
              "0             12-19   6780578  ...            2021-12-13           51.348027\n",
              "1             20-29  10702806  ...            2021-12-13           51.984984\n",
              "2             30-39  11619929  ...            2021-12-13           50.915673\n",
              "3             40-49  15289824  ...            2021-12-13           49.316245\n",
              "4             50-59  18114488  ...            2021-12-13           48.842661\n",
              "5             60-69  15126565  ...            2021-12-13           48.696575\n",
              "6             70-79  13031075  ...            2021-12-13           47.403679\n",
              "7             80-89   9305282  ...            2021-12-13           41.757445\n",
              "8               90+   2058760  ...            2021-12-13           29.834901\n",
              "\n",
              "[9 rows x 8 columns]"
            ]
          },
          "metadata": {},
          "execution_count": 5
        }
      ]
    },
    {
      "cell_type": "markdown",
      "metadata": {
        "id": "ZXygbYwQtT_q"
      },
      "source": [
        "Eliminare le righe dalla 2 alla 6."
      ]
    },
    {
      "cell_type": "code",
      "metadata": {
        "id": "PEo04OBxtMn6",
        "outputId": "c5eee15f-ee19-4150-de13-5baac3329175",
        "colab": {
          "base_uri": "https://localhost:8080/",
          "height": 175
        }
      },
      "source": [
        "df = df.drop(range(2,7))\n",
        "df"
      ],
      "execution_count": 6,
      "outputs": [
        {
          "output_type": "execute_result",
          "data": {
            "text/html": [
              "<div>\n",
              "<style scoped>\n",
              "    .dataframe tbody tr th:only-of-type {\n",
              "        vertical-align: middle;\n",
              "    }\n",
              "\n",
              "    .dataframe tbody tr th {\n",
              "        vertical-align: top;\n",
              "    }\n",
              "\n",
              "    .dataframe thead th {\n",
              "        text-align: right;\n",
              "    }\n",
              "</style>\n",
              "<table border=\"1\" class=\"dataframe\">\n",
              "  <thead>\n",
              "    <tr style=\"text-align: right;\">\n",
              "      <th></th>\n",
              "      <th>fascia_anagrafica</th>\n",
              "      <th>totale</th>\n",
              "      <th>prima_dose</th>\n",
              "      <th>seconda_dose</th>\n",
              "      <th>pregressa_infezione</th>\n",
              "      <th>dose_addizionale_booster</th>\n",
              "      <th>ultimo_aggiornamento</th>\n",
              "      <th>percentuale_maschi</th>\n",
              "    </tr>\n",
              "  </thead>\n",
              "  <tbody>\n",
              "    <tr>\n",
              "      <th>0</th>\n",
              "      <td>12-19</td>\n",
              "      <td>6780578</td>\n",
              "      <td>3497909</td>\n",
              "      <td>3131356</td>\n",
              "      <td>112288</td>\n",
              "      <td>39025</td>\n",
              "      <td>2021-12-13</td>\n",
              "      <td>51.348027</td>\n",
              "    </tr>\n",
              "    <tr>\n",
              "      <th>1</th>\n",
              "      <td>20-29</td>\n",
              "      <td>10702806</td>\n",
              "      <td>5222821</td>\n",
              "      <td>4831931</td>\n",
              "      <td>202753</td>\n",
              "      <td>445301</td>\n",
              "      <td>2021-12-13</td>\n",
              "      <td>51.984984</td>\n",
              "    </tr>\n",
              "    <tr>\n",
              "      <th>7</th>\n",
              "      <td>80-89</td>\n",
              "      <td>9305282</td>\n",
              "      <td>3472117</td>\n",
              "      <td>3403526</td>\n",
              "      <td>76460</td>\n",
              "      <td>2353179</td>\n",
              "      <td>2021-12-13</td>\n",
              "      <td>41.757445</td>\n",
              "    </tr>\n",
              "    <tr>\n",
              "      <th>8</th>\n",
              "      <td>90+</td>\n",
              "      <td>2058760</td>\n",
              "      <td>801487</td>\n",
              "      <td>772515</td>\n",
              "      <td>19814</td>\n",
              "      <td>464944</td>\n",
              "      <td>2021-12-13</td>\n",
              "      <td>29.834901</td>\n",
              "    </tr>\n",
              "  </tbody>\n",
              "</table>\n",
              "</div>"
            ],
            "text/plain": [
              "  fascia_anagrafica    totale  ...  ultimo_aggiornamento  percentuale_maschi\n",
              "0             12-19   6780578  ...            2021-12-13           51.348027\n",
              "1             20-29  10702806  ...            2021-12-13           51.984984\n",
              "7             80-89   9305282  ...            2021-12-13           41.757445\n",
              "8               90+   2058760  ...            2021-12-13           29.834901\n",
              "\n",
              "[4 rows x 8 columns]"
            ]
          },
          "metadata": {},
          "execution_count": 6
        }
      ]
    },
    {
      "cell_type": "markdown",
      "metadata": {
        "id": "FaT6J_vTuj8R"
      },
      "source": [
        "Visualizzare il totale dei vaccinati della fascia 20-29."
      ]
    },
    {
      "cell_type": "code",
      "metadata": {
        "id": "WJtj6A5hutkJ",
        "outputId": "2aff297d-ed06-4859-c285-fe8b66d8d4d8",
        "colab": {
          "base_uri": "https://localhost:8080/"
        }
      },
      "source": [
        "df[df['fascia_anagrafica'] == '20-29']['totale']"
      ],
      "execution_count": 7,
      "outputs": [
        {
          "output_type": "execute_result",
          "data": {
            "text/plain": [
              "1    10702806\n",
              "Name: totale, dtype: int64"
            ]
          },
          "metadata": {},
          "execution_count": 7
        }
      ]
    },
    {
      "cell_type": "code",
      "metadata": {
        "id": "OGfpgEjHwp17",
        "outputId": "e4862a10-2304-40d8-9ff8-86eebc62c8bb",
        "colab": {
          "base_uri": "https://localhost:8080/",
          "height": 206
        }
      },
      "source": [
        "df = df.set_index('fascia_anagrafica') # l'indice viene cambiato\n",
        "df"
      ],
      "execution_count": 8,
      "outputs": [
        {
          "output_type": "execute_result",
          "data": {
            "text/html": [
              "<div>\n",
              "<style scoped>\n",
              "    .dataframe tbody tr th:only-of-type {\n",
              "        vertical-align: middle;\n",
              "    }\n",
              "\n",
              "    .dataframe tbody tr th {\n",
              "        vertical-align: top;\n",
              "    }\n",
              "\n",
              "    .dataframe thead th {\n",
              "        text-align: right;\n",
              "    }\n",
              "</style>\n",
              "<table border=\"1\" class=\"dataframe\">\n",
              "  <thead>\n",
              "    <tr style=\"text-align: right;\">\n",
              "      <th></th>\n",
              "      <th>totale</th>\n",
              "      <th>prima_dose</th>\n",
              "      <th>seconda_dose</th>\n",
              "      <th>pregressa_infezione</th>\n",
              "      <th>dose_addizionale_booster</th>\n",
              "      <th>ultimo_aggiornamento</th>\n",
              "      <th>percentuale_maschi</th>\n",
              "    </tr>\n",
              "    <tr>\n",
              "      <th>fascia_anagrafica</th>\n",
              "      <th></th>\n",
              "      <th></th>\n",
              "      <th></th>\n",
              "      <th></th>\n",
              "      <th></th>\n",
              "      <th></th>\n",
              "      <th></th>\n",
              "    </tr>\n",
              "  </thead>\n",
              "  <tbody>\n",
              "    <tr>\n",
              "      <th>12-19</th>\n",
              "      <td>6780578</td>\n",
              "      <td>3497909</td>\n",
              "      <td>3131356</td>\n",
              "      <td>112288</td>\n",
              "      <td>39025</td>\n",
              "      <td>2021-12-13</td>\n",
              "      <td>51.348027</td>\n",
              "    </tr>\n",
              "    <tr>\n",
              "      <th>20-29</th>\n",
              "      <td>10702806</td>\n",
              "      <td>5222821</td>\n",
              "      <td>4831931</td>\n",
              "      <td>202753</td>\n",
              "      <td>445301</td>\n",
              "      <td>2021-12-13</td>\n",
              "      <td>51.984984</td>\n",
              "    </tr>\n",
              "    <tr>\n",
              "      <th>80-89</th>\n",
              "      <td>9305282</td>\n",
              "      <td>3472117</td>\n",
              "      <td>3403526</td>\n",
              "      <td>76460</td>\n",
              "      <td>2353179</td>\n",
              "      <td>2021-12-13</td>\n",
              "      <td>41.757445</td>\n",
              "    </tr>\n",
              "    <tr>\n",
              "      <th>90+</th>\n",
              "      <td>2058760</td>\n",
              "      <td>801487</td>\n",
              "      <td>772515</td>\n",
              "      <td>19814</td>\n",
              "      <td>464944</td>\n",
              "      <td>2021-12-13</td>\n",
              "      <td>29.834901</td>\n",
              "    </tr>\n",
              "  </tbody>\n",
              "</table>\n",
              "</div>"
            ],
            "text/plain": [
              "                     totale  ...  percentuale_maschi\n",
              "fascia_anagrafica            ...                    \n",
              "12-19               6780578  ...           51.348027\n",
              "20-29              10702806  ...           51.984984\n",
              "80-89               9305282  ...           41.757445\n",
              "90+                 2058760  ...           29.834901\n",
              "\n",
              "[4 rows x 7 columns]"
            ]
          },
          "metadata": {},
          "execution_count": 8
        }
      ]
    },
    {
      "cell_type": "code",
      "metadata": {
        "id": "ld6YEkUGwTVs",
        "outputId": "0661b317-a575-4b1f-c2c2-5fe38d159656",
        "colab": {
          "base_uri": "https://localhost:8080/"
        }
      },
      "source": [
        "df.loc['20-29', 'totale']"
      ],
      "execution_count": 9,
      "outputs": [
        {
          "output_type": "execute_result",
          "data": {
            "text/plain": [
              "10702806"
            ]
          },
          "metadata": {},
          "execution_count": 9
        }
      ]
    },
    {
      "cell_type": "markdown",
      "metadata": {
        "id": "xK4idlNSxPfi"
      },
      "source": [
        "Sostituire al valore 90+ il valore 90-120."
      ]
    },
    {
      "cell_type": "code",
      "metadata": {
        "id": "C12TqJ-ixUI1"
      },
      "source": [
        ""
      ],
      "execution_count": 9,
      "outputs": []
    }
  ]
}