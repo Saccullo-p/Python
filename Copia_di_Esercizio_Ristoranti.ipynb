{
  "nbformat": 4,
  "nbformat_minor": 0,
  "metadata": {
    "colab": {
      "name": "Copia di Esercizio Ristoranti.ipynb",
      "provenance": [],
      "collapsed_sections": []
    },
    "kernelspec": {
      "name": "python3",
      "display_name": "Python 3"
    },
    "language_info": {
      "name": "python"
    }
  },
  "cells": [
    {
      "cell_type": "markdown",
      "metadata": {
        "id": "loilOzSkx6R4"
      },
      "source": [
        "Creare un notebook Python che:"
      ]
    },
    {
      "cell_type": "code",
      "metadata": {
        "id": "cBkdT-jryCof"
      },
      "source": [
        "import pandas as pd\n",
        "import matplotlib.pyplot as plt\n",
        "import pymongo\n",
        "import numpy as np"
      ],
      "execution_count": null,
      "outputs": []
    },
    {
      "cell_type": "markdown",
      "metadata": {
        "id": "poHLiMb7x9rX"
      },
      "source": [
        "1. Si colleghi al proprio database."
      ]
    },
    {
      "cell_type": "code",
      "metadata": {
        "id": "OvWxpw9ZwraH"
      },
      "source": [
        "# dati diversi"
      ],
      "execution_count": null,
      "outputs": []
    },
    {
      "cell_type": "markdown",
      "metadata": {
        "id": "9TE6Zz3Zyoe2"
      },
      "source": [
        "2. Crei un dataframe Pandas contenente le informazioni presenti nella collection."
      ]
    },
    {
      "cell_type": "code",
      "metadata": {
        "id": "o19yWU3qy3fI"
      },
      "source": [
        "df = pd.read_csv('https://raw.githubusercontent.com/wtitze/4E/main/ristoranti.csv')\n",
        "df"
      ],
      "execution_count": null,
      "outputs": []
    },
    {
      "cell_type": "markdown",
      "metadata": {
        "id": "hqSclI7My-cX"
      },
      "source": [
        "3. Elimini tutte le colonne ad esclusione di 'borough', 'cuisine' e 'name'."
      ]
    },
    {
      "cell_type": "code",
      "metadata": {
        "id": "sLSqdqV5zKbn"
      },
      "source": [
        "# df.filter()\n",
        "df = df.drop(df.columns.difference(['borough', 'cuisine', 'name']), axis = 1)\n",
        "df"
      ],
      "execution_count": null,
      "outputs": []
    },
    {
      "cell_type": "markdown",
      "metadata": {
        "id": "Ll3hotfpzK-3"
      },
      "source": [
        "4. Conti il numero di ristoranti che hanno 'Missing' come quartiere."
      ]
    },
    {
      "cell_type": "code",
      "metadata": {
        "id": "ThVa1i2mzR1v"
      },
      "source": [
        "df[df['borough'] == 'Missing'].count()['borough']"
      ],
      "execution_count": null,
      "outputs": []
    },
    {
      "cell_type": "markdown",
      "metadata": {
        "id": "l5bTUbFq2Ufv"
      },
      "source": [
        "5. Sostituisca alla parola 'Missing' il valore null."
      ]
    },
    {
      "cell_type": "code",
      "metadata": {
        "id": "3VSCrMQJ2ac_"
      },
      "source": [
        "df.replace('Missing', np.nan)"
      ],
      "execution_count": null,
      "outputs": []
    },
    {
      "cell_type": "markdown",
      "metadata": {
        "id": "XBNWTs052izQ"
      },
      "source": [
        "6. Elimini dal dataframe tutti i ristoranti di cui non si conosce il quartiere."
      ]
    },
    {
      "cell_type": "code",
      "metadata": {
        "id": "voAoAZFQ22hP"
      },
      "source": [
        "# df = df.dropna(subset=['borough'])\n",
        "df.dropna(subset=['borough'], inplace = True)"
      ],
      "execution_count": null,
      "outputs": []
    },
    {
      "cell_type": "markdown",
      "metadata": {
        "id": "rZ993jyM224H"
      },
      "source": [
        "7. Calcoli il numero di ristoranti per ogni cucina. Ordinare in ordine decrescente a partire dal tipo di cucina che ha più ristoranti."
      ]
    },
    {
      "cell_type": "code",
      "metadata": {
        "id": "b-KU_LcB3xuv"
      },
      "source": [
        "df['cuisine'].value_counts()"
      ],
      "execution_count": null,
      "outputs": []
    },
    {
      "cell_type": "markdown",
      "metadata": {
        "id": "rpxqwvRg3zkv"
      },
      "source": [
        "8. Visualizzi il tipo di cucina con più ristoranti."
      ]
    },
    {
      "cell_type": "code",
      "metadata": {
        "id": "vV4qkGbZ3323"
      },
      "source": [
        "df['cuisine'].value_counts().idxmax()"
      ],
      "execution_count": null,
      "outputs": []
    },
    {
      "cell_type": "markdown",
      "metadata": {
        "id": "ufPCHjKo38dv"
      },
      "source": [
        "9. Visualizzi un grafico a barre con i primi 10 tipi di cucina."
      ]
    },
    {
      "cell_type": "code",
      "metadata": {
        "id": "OE-NVpL64DRY"
      },
      "source": [
        "df1 = df['cuisine'].value_counts()[:10]\n",
        "df1\n",
        "fig, ax = plt.subplots()\n",
        "fig.autofmt_xdate(rotation=90)\n",
        "ax.bar(df1.index, df1)"
      ],
      "execution_count": null,
      "outputs": []
    },
    {
      "cell_type": "markdown",
      "metadata": {
        "id": "BHuagSk44GcY"
      },
      "source": [
        "10. Calcoli il numero di ristoranti per ogni quartiere."
      ]
    },
    {
      "cell_type": "code",
      "metadata": {
        "id": "KUgm-2nU4JG4"
      },
      "source": [
        "df['borough'].value_counts()"
      ],
      "execution_count": null,
      "outputs": []
    },
    {
      "cell_type": "markdown",
      "metadata": {
        "id": "tJ9k5j8O4PV4"
      },
      "source": [
        "11. Visualizzi i dati precedenti in un grafico a torta."
      ]
    },
    {
      "cell_type": "code",
      "metadata": {
        "id": "tltTllH65avo"
      },
      "source": [
        "a = df['borough'].value_counts()\n",
        "fig, ax = plt.subplots()\n",
        "ax.pie(a, autopct = '%1.1f%%', labels = a.index)\n",
        "plt.show()"
      ],
      "execution_count": null,
      "outputs": []
    },
    {
      "cell_type": "markdown",
      "metadata": {
        "id": "tJeHqhuq5eCQ"
      },
      "source": [
        "12. Visualizzi i due grafici affiancati. Dare titoli appropriati ad entrambi i grafici."
      ]
    },
    {
      "cell_type": "code",
      "metadata": {
        "id": "fbvtCwk75mwA"
      },
      "source": [
        "fig, ax = plt.subplots(1, 2)\n",
        "ax[0].set_title('Grafico a barre') # ax[0] è il primo grafico\n",
        "ax[1].set_title('Grafico a torta') # ax[1] è il secondo grafico\n",
        "ax[0].bar(df1.index, df1)\n",
        "ax[1].pie(a, autopct = '%1.1f%%', labels = a.index)\n",
        "fig.autofmt_xdate(rotation=90)\n",
        "plt.show()\n",
        "\n",
        "# plt.savefig('risultato.pdf') salvare un file in Colab"
      ],
      "execution_count": null,
      "outputs": []
    },
    {
      "cell_type": "markdown",
      "metadata": {
        "id": "GXjqXeLr92uZ"
      },
      "source": [
        "13. Crei un nuovo dataframe sostituendo la parola 'non American' a tutti i tipi di cucina che non sono americani."
      ]
    },
    {
      "cell_type": "code",
      "metadata": {
        "id": "1NMQS3Yc-CVA"
      },
      "source": [
        "df['cuisine'][df['cuisine']!='American']='non American'\n",
        "df"
      ],
      "execution_count": null,
      "outputs": []
    },
    {
      "cell_type": "code",
      "metadata": {
        "id": "7vQHP-tRJ-Ee"
      },
      "source": [
        "# df['cuisine'].loc[df['cuisine'] != 'American']= 'non American'\n",
        "# df"
      ],
      "execution_count": null,
      "outputs": []
    },
    {
      "cell_type": "markdown",
      "metadata": {
        "id": "5vbqVUGP-Cz4"
      },
      "source": [
        "14. Visualizzi, per ogni quartiere, il numero di ristorinati di cucina americana e non americana."
      ]
    },
    {
      "cell_type": "code",
      "metadata": {
        "id": "sDEJSNj7-Msp"
      },
      "source": [
        "df1 = df.groupby(['borough', 'cuisine']).count()\n",
        "df1"
      ],
      "execution_count": null,
      "outputs": []
    },
    {
      "cell_type": "markdown",
      "metadata": {
        "id": "nOykfFtE_frI"
      },
      "source": [
        "15. Crei un nuovo dataframe che abbia una colonna che contiene i ristoranti di cucina americana e una colonna che contiene il numero di ristoranti che propongono cucine non americane."
      ]
    },
    {
      "cell_type": "code",
      "metadata": {
        "id": "aeZAijTicYKM"
      },
      "source": [
        "# df2 = df1.unstack().reset_index(axis = 1)\n",
        "# df2"
      ],
      "execution_count": null,
      "outputs": []
    },
    {
      "cell_type": "markdown",
      "metadata": {
        "id": "vK-luVhs_qYc"
      },
      "source": [
        "16. Resetti l'indice in modo da avere le tre colonne necessarie per costruire un grafico a barre."
      ]
    },
    {
      "cell_type": "code",
      "metadata": {
        "id": "bXMjapMs_xZJ"
      },
      "source": [
        ""
      ],
      "execution_count": null,
      "outputs": []
    },
    {
      "cell_type": "markdown",
      "metadata": {
        "id": "O-O8qZkS_49Q"
      },
      "source": [
        "17. Visualizzi un istogramma in cui per ogni quartiere si visualizzi una barra con il numero dei ristoranti americani ed una per quelli non americani."
      ]
    },
    {
      "cell_type": "code",
      "metadata": {
        "id": "WryCB6XTABOp"
      },
      "source": [
        ""
      ],
      "execution_count": null,
      "outputs": []
    }
  ]
}