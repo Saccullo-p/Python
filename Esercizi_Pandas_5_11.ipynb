{
  "nbformat": 4,
  "nbformat_minor": 0,
  "metadata": {
    "colab": {
      "name": "Esercizi Pandas 5.11.ipynb",
      "provenance": [],
      "collapsed_sections": []
    },
    "kernelspec": {
      "name": "python3",
      "display_name": "Python 3"
    },
    "language_info": {
      "name": "python"
    }
  },
  "cells": [
    {
      "cell_type": "markdown",
      "metadata": {
        "id": "h0wIB2cWnzWW"
      },
      "source": [
        "**1. Caricare i dati in un dataframe e studiare le informazioni inserite per capire di che cosa si tratta.**"
      ]
    },
    {
      "cell_type": "code",
      "metadata": {
        "id": "SkvhxrBRnsCR"
      },
      "source": [
        "import pandas as pd"
      ],
      "execution_count": null,
      "outputs": []
    },
    {
      "cell_type": "code",
      "metadata": {
        "id": "dAyQxMT0oCWA",
        "colab": {
          "base_uri": "https://localhost:8080/",
          "height": 422
        },
        "outputId": "a5b7596e-73ea-407c-e0e6-2cab0f1b740c"
      },
      "source": [
        "df= pd.read_csv('https://raw.githubusercontent.com/CappuCitti/Python-appunti-ed-esercizi/main/Pandas/Data/uffici_postali_milano.csv')\n",
        "df"
      ],
      "execution_count": null,
      "outputs": [
        {
          "output_type": "execute_result",
          "data": {
            "text/html": [
              "<div>\n",
              "<style scoped>\n",
              "    .dataframe tbody tr th:only-of-type {\n",
              "        vertical-align: middle;\n",
              "    }\n",
              "\n",
              "    .dataframe tbody tr th {\n",
              "        vertical-align: top;\n",
              "    }\n",
              "\n",
              "    .dataframe thead th {\n",
              "        text-align: right;\n",
              "    }\n",
              "</style>\n",
              "<table border=\"1\" class=\"dataframe\">\n",
              "  <thead>\n",
              "    <tr style=\"text-align: right;\">\n",
              "      <th></th>\n",
              "      <th>Indirizzo</th>\n",
              "      <th>Telefono</th>\n",
              "      <th>Fax</th>\n",
              "      <th>CAP</th>\n",
              "      <th>MUNICIPIO</th>\n",
              "      <th>ID_NIL</th>\n",
              "      <th>NIL</th>\n",
              "      <th>LONG_X_4326</th>\n",
              "      <th>LAT_Y_4326</th>\n",
              "      <th>Location</th>\n",
              "    </tr>\n",
              "  </thead>\n",
              "  <tbody>\n",
              "    <tr>\n",
              "      <th>0</th>\n",
              "      <td>BASTIONI DI PORTA VOLTA 7</td>\n",
              "      <td>02-6572655</td>\n",
              "      <td>02-29002004</td>\n",
              "      <td>20121</td>\n",
              "      <td>1</td>\n",
              "      <td>2</td>\n",
              "      <td>BRERA</td>\n",
              "      <td>9.182151</td>\n",
              "      <td>45.479601</td>\n",
              "      <td>(45.47960100000006;9.182151000000033)</td>\n",
              "    </tr>\n",
              "    <tr>\n",
              "      <th>1</th>\n",
              "      <td>CORSO DI PORTA VIGENTINA 35</td>\n",
              "      <td>02-58320771</td>\n",
              "      <td>02-58319779</td>\n",
              "      <td>20122</td>\n",
              "      <td>1</td>\n",
              "      <td>5</td>\n",
              "      <td>PORTA VIGENTINA - PORTA LODOVICA</td>\n",
              "      <td>9.196520</td>\n",
              "      <td>45.452538</td>\n",
              "      <td>(45.45253800000006;9.196519500000022)</td>\n",
              "    </tr>\n",
              "    <tr>\n",
              "      <th>2</th>\n",
              "      <td>CORSO ITALI 16</td>\n",
              "      <td>02-804336</td>\n",
              "      <td>02-86454450</td>\n",
              "      <td>20122</td>\n",
              "      <td>1</td>\n",
              "      <td>1</td>\n",
              "      <td>DUOMO</td>\n",
              "      <td>9.187470</td>\n",
              "      <td>45.457893</td>\n",
              "      <td>(45.45789300000007;9.187470000000076)</td>\n",
              "    </tr>\n",
              "    <tr>\n",
              "      <th>3</th>\n",
              "      <td>CORSO SEMPIONE 94</td>\n",
              "      <td>NaN</td>\n",
              "      <td>NaN</td>\n",
              "      <td>20154</td>\n",
              "      <td>8</td>\n",
              "      <td>69</td>\n",
              "      <td>SARPI</td>\n",
              "      <td>9.158508</td>\n",
              "      <td>45.486540</td>\n",
              "      <td>(45.48654000000005;9.15850800000004)</td>\n",
              "    </tr>\n",
              "    <tr>\n",
              "      <th>4</th>\n",
              "      <td>CORSO VENEZIA 42</td>\n",
              "      <td>02-76023056</td>\n",
              "      <td>02-7837251</td>\n",
              "      <td>20121</td>\n",
              "      <td>1</td>\n",
              "      <td>4</td>\n",
              "      <td>GUASTALLA</td>\n",
              "      <td>9.202703</td>\n",
              "      <td>45.471861</td>\n",
              "      <td>(45.47186100000005;9.202702500000044)</td>\n",
              "    </tr>\n",
              "    <tr>\n",
              "      <th>...</th>\n",
              "      <td>...</td>\n",
              "      <td>...</td>\n",
              "      <td>...</td>\n",
              "      <td>...</td>\n",
              "      <td>...</td>\n",
              "      <td>...</td>\n",
              "      <td>...</td>\n",
              "      <td>...</td>\n",
              "      <td>...</td>\n",
              "      <td>...</td>\n",
              "    </tr>\n",
              "    <tr>\n",
              "      <th>77</th>\n",
              "      <td>VIALE GORIZIA 6</td>\n",
              "      <td>02-8358241</td>\n",
              "      <td>02-8373830</td>\n",
              "      <td>20144</td>\n",
              "      <td>6</td>\n",
              "      <td>44</td>\n",
              "      <td>PORTA TICINESE - CONCHETTA</td>\n",
              "      <td>9.173156</td>\n",
              "      <td>45.454518</td>\n",
              "      <td>(45.454518000000064;9.173155500000064)</td>\n",
              "    </tr>\n",
              "    <tr>\n",
              "      <th>78</th>\n",
              "      <td>VIALE MONTE CENERI SNC</td>\n",
              "      <td>02-32671911</td>\n",
              "      <td>02-32671947</td>\n",
              "      <td>20155</td>\n",
              "      <td>8</td>\n",
              "      <td>71</td>\n",
              "      <td>VILLAPIZZONE - CAGNOLA - BOLDINASCO</td>\n",
              "      <td>9.153592</td>\n",
              "      <td>45.491568</td>\n",
              "      <td>(45.49156751800007;9.153591732000052)</td>\n",
              "    </tr>\n",
              "    <tr>\n",
              "      <th>79</th>\n",
              "      <td>VIALE SABOTINO 21/A</td>\n",
              "      <td>02-58457911</td>\n",
              "      <td>02-58457947</td>\n",
              "      <td>20135</td>\n",
              "      <td>5</td>\n",
              "      <td>27</td>\n",
              "      <td>PTA ROMANA</td>\n",
              "      <td>9.200174</td>\n",
              "      <td>45.451017</td>\n",
              "      <td>(45.451017000000036;9.200173500000062)</td>\n",
              "    </tr>\n",
              "    <tr>\n",
              "      <th>80</th>\n",
              "      <td>VIALE SAN GIMIGNANO 10</td>\n",
              "      <td>02-41411311</td>\n",
              "      <td>02-41411347</td>\n",
              "      <td>20146</td>\n",
              "      <td>6</td>\n",
              "      <td>52</td>\n",
              "      <td>BANDE NERE</td>\n",
              "      <td>9.136526</td>\n",
              "      <td>45.455868</td>\n",
              "      <td>(45.455868000000066;9.136525500000062)</td>\n",
              "    </tr>\n",
              "    <tr>\n",
              "      <th>81</th>\n",
              "      <td>VIALE ZARA 131</td>\n",
              "      <td>02-69911111</td>\n",
              "      <td>02-69911147</td>\n",
              "      <td>20159</td>\n",
              "      <td>9</td>\n",
              "      <td>12</td>\n",
              "      <td>MACIACHINI - MAGGIOLINA</td>\n",
              "      <td>9.196686</td>\n",
              "      <td>45.500193</td>\n",
              "      <td>(45.50019300000008;9.196686000000057)</td>\n",
              "    </tr>\n",
              "  </tbody>\n",
              "</table>\n",
              "<p>82 rows × 10 columns</p>\n",
              "</div>"
            ],
            "text/plain": [
              "                      Indirizzo  ...                                Location\n",
              "0     BASTIONI DI PORTA VOLTA 7  ...   (45.47960100000006;9.182151000000033)\n",
              "1   CORSO DI PORTA VIGENTINA 35  ...   (45.45253800000006;9.196519500000022)\n",
              "2                CORSO ITALI 16  ...   (45.45789300000007;9.187470000000076)\n",
              "3             CORSO SEMPIONE 94  ...    (45.48654000000005;9.15850800000004)\n",
              "4              CORSO VENEZIA 42  ...   (45.47186100000005;9.202702500000044)\n",
              "..                          ...  ...                                     ...\n",
              "77              VIALE GORIZIA 6  ...  (45.454518000000064;9.173155500000064)\n",
              "78       VIALE MONTE CENERI SNC  ...   (45.49156751800007;9.153591732000052)\n",
              "79          VIALE SABOTINO 21/A  ...  (45.451017000000036;9.200173500000062)\n",
              "80       VIALE SAN GIMIGNANO 10  ...  (45.455868000000066;9.136525500000062)\n",
              "81               VIALE ZARA 131  ...   (45.50019300000008;9.196686000000057)\n",
              "\n",
              "[82 rows x 10 columns]"
            ]
          },
          "metadata": {},
          "execution_count": 2
        }
      ]
    },
    {
      "cell_type": "markdown",
      "metadata": {
        "id": "dJbLqRP3oGsT"
      },
      "source": [
        "**Scrivere poi le istruzioni per effettuare le seguenti operazioni:**"
      ]
    },
    {
      "cell_type": "markdown",
      "metadata": {
        "id": "GAcU73M7oT7n"
      },
      "source": [
        "# **Operazioni sulle colonne**"
      ]
    },
    {
      "cell_type": "markdown",
      "metadata": {
        "id": "Wbksm6ZAoVOR"
      },
      "source": [
        "**2. Visualizzare solo la prima colonna.**"
      ]
    },
    {
      "cell_type": "code",
      "metadata": {
        "id": "61t_El73of24"
      },
      "source": [
        "# df[['Indirizzo']]\n",
        "df.iloc[:,[0]]"
      ],
      "execution_count": null,
      "outputs": []
    },
    {
      "cell_type": "code",
      "metadata": {
        "id": "A2uTteaoj72P"
      },
      "source": [
        "df[df.columns[0]]"
      ],
      "execution_count": null,
      "outputs": []
    },
    {
      "cell_type": "markdown",
      "metadata": {
        "id": "2SNbduPBol8I"
      },
      "source": [
        "**3. Visualizzare solo l'ultima colonna.**"
      ]
    },
    {
      "cell_type": "code",
      "metadata": {
        "id": "TN8AeIGvosev"
      },
      "source": [
        "df[['Location']]"
      ],
      "execution_count": null,
      "outputs": []
    },
    {
      "cell_type": "code",
      "metadata": {
        "id": "JBMb2i7To0NF"
      },
      "source": [
        "#df.iloc[:,[-1]]"
      ],
      "execution_count": null,
      "outputs": []
    },
    {
      "cell_type": "code",
      "metadata": {
        "id": "xBUZJKM-o1L0"
      },
      "source": [
        "#df[[df.columns[-1]]]"
      ],
      "execution_count": null,
      "outputs": []
    },
    {
      "cell_type": "markdown",
      "metadata": {
        "id": "QJ1A9_6Wov3S"
      },
      "source": [
        "**4. Visualizzare le colonne dalla terza alla quinta.**"
      ]
    },
    {
      "cell_type": "code",
      "metadata": {
        "id": "wsngPcWQpA86"
      },
      "source": [
        "df.iloc[:, 3:6]"
      ],
      "execution_count": null,
      "outputs": []
    },
    {
      "cell_type": "markdown",
      "metadata": {
        "id": "aCLLCmSEpFVn"
      },
      "source": [
        "**5. Visualizzare la terza e la sesta colonna.**"
      ]
    },
    {
      "cell_type": "code",
      "metadata": {
        "id": "1fx6W1P8pLsa"
      },
      "source": [
        "df.iloc[:,[3,6]]"
      ],
      "execution_count": null,
      "outputs": []
    },
    {
      "cell_type": "markdown",
      "metadata": {
        "id": "_X2upsIVpXYP"
      },
      "source": [
        "**6. Visualizzare la colonna dell'indirizzo e la colonna del municipio.**"
      ]
    },
    {
      "cell_type": "code",
      "metadata": {
        "id": "09ekaa8KpcEq"
      },
      "source": [
        "df[['Indirizzo','MUNICIPIO']]"
      ],
      "execution_count": null,
      "outputs": []
    },
    {
      "cell_type": "markdown",
      "metadata": {
        "id": "yLJqlzgRpfK-"
      },
      "source": [
        "# **Operazioni sulle righe**"
      ]
    },
    {
      "cell_type": "markdown",
      "metadata": {
        "id": "bj8i1UTDpki8"
      },
      "source": [
        "**7. Visualizzare la prima riga.**"
      ]
    },
    {
      "cell_type": "code",
      "metadata": {
        "id": "tIEJhiGfprCX"
      },
      "source": [
        "df.head(1)\n",
        "# df[0:1]"
      ],
      "execution_count": null,
      "outputs": []
    },
    {
      "cell_type": "markdown",
      "metadata": {
        "id": "dL19X43ApzcP"
      },
      "source": [
        "**8. Visualizzare l'ultima riga.**"
      ]
    },
    {
      "cell_type": "code",
      "metadata": {
        "id": "8U2LjdPUp2TE"
      },
      "source": [
        "df.tail(1)\n",
        "# df[-1:]"
      ],
      "execution_count": null,
      "outputs": []
    },
    {
      "cell_type": "markdown",
      "metadata": {
        "id": "uCY5rVWrp6Jk"
      },
      "source": [
        "**9. Visualizzare la riga centrale.**"
      ]
    },
    {
      "cell_type": "code",
      "metadata": {
        "id": "6lfzzxfcqCMU"
      },
      "source": [
        "df.iloc[[len(df)//2]]"
      ],
      "execution_count": null,
      "outputs": []
    },
    {
      "cell_type": "code",
      "metadata": {
        "id": "U967aMy7qPFX"
      },
      "source": [
        "print(len(df))\n",
        "if len(df)%2 == 0:\n",
        "  print(df.iloc[[len(df)//2]])\n",
        "  print(df.iloc[[(len(df)//2)+1]])\n",
        "else:\n",
        "  print(df.iloc[[len(df)//2]])"
      ],
      "execution_count": null,
      "outputs": []
    },
    {
      "cell_type": "markdown",
      "metadata": {
        "id": "-G94NMt6qFu-"
      },
      "source": [
        "**10. Visualizzare le righe 3, 4 e 12.**"
      ]
    },
    {
      "cell_type": "code",
      "metadata": {
        "id": "UCcb9kGTqXr-"
      },
      "source": [
        "df.iloc[[3,4,12]]"
      ],
      "execution_count": null,
      "outputs": []
    },
    {
      "cell_type": "markdown",
      "metadata": {
        "id": "08jqWa60qbgr"
      },
      "source": [
        "**11. Visualizzare le righe dalla decima alla quindicesima.**"
      ]
    },
    {
      "cell_type": "code",
      "metadata": {
        "id": "IWJbc4cDqinT"
      },
      "source": [
        "df[10:16]"
      ],
      "execution_count": null,
      "outputs": []
    },
    {
      "cell_type": "markdown",
      "metadata": {
        "id": "R_BLrW4yqmFE"
      },
      "source": [
        "# **Operazioni su righe e colonne**"
      ]
    },
    {
      "cell_type": "markdown",
      "metadata": {
        "id": "BwYIDtrbqvy2"
      },
      "source": [
        "**12. Visualizzare le colonne Indirizzo e NIL, dalla decima alla quindicesima riga.**"
      ]
    },
    {
      "cell_type": "code",
      "metadata": {
        "id": "GT5FNp9JrDUk"
      },
      "source": [
        "df[10:16][['Indirizzo','NIL']]"
      ],
      "execution_count": null,
      "outputs": []
    },
    {
      "cell_type": "markdown",
      "metadata": {
        "id": "N5Oanv3QrHw9"
      },
      "source": [
        "**13. Visualizzare le colonne Telefono e Fax, delle righe 3, 5 e 12.**"
      ]
    },
    {
      "cell_type": "code",
      "metadata": {
        "id": "qWD99jJErSz0"
      },
      "source": [
        "df.iloc[[3,5,12]][[\"Telefono\", \"Fax\"]]"
      ],
      "execution_count": null,
      "outputs": []
    },
    {
      "cell_type": "markdown",
      "metadata": {
        "id": "Nrj7_YSFrbdo"
      },
      "source": [
        "**14. Visualizzare le colonne dalla 2 alla 6 delle righe dalla 3 alla 10.**"
      ]
    },
    {
      "cell_type": "code",
      "metadata": {
        "id": "VwxPHWnsro7W"
      },
      "source": [
        "df[3:11].iloc[0: , 2:7]"
      ],
      "execution_count": null,
      "outputs": []
    },
    {
      "cell_type": "markdown",
      "metadata": {
        "id": "CsulN78CrlVL"
      },
      "source": [
        "# **Ricerca di informazioni**"
      ]
    },
    {
      "cell_type": "markdown",
      "metadata": {
        "id": "xqV5xrnYrxxg"
      },
      "source": [
        "**15. Visualizzare il numero di telefono dell'ufficio di Piazza Napoli.**"
      ]
    },
    {
      "cell_type": "code",
      "metadata": {
        "id": "9votENi4sEuS"
      },
      "source": [
        "df[df['Indirizzo'].str.contains(\"PIAZZA NAPOLI\")][['Telefono']]"
      ],
      "execution_count": null,
      "outputs": []
    },
    {
      "cell_type": "markdown",
      "metadata": {
        "id": "NnhYeTiAsIze"
      },
      "source": [
        "**16. Visualizzare l'indirizzo e il numero di telefono degli uffici postali di Niguarda.**"
      ]
    },
    {
      "cell_type": "code",
      "metadata": {
        "id": "MH8fJPk9sQln"
      },
      "source": [
        "df[df['NIL'].str.contains(\"NIGUARDA\")][['Indirizzo','Telefono']]"
      ],
      "execution_count": null,
      "outputs": []
    },
    {
      "cell_type": "markdown",
      "metadata": {
        "id": "V--YYrG9sUoB"
      },
      "source": [
        "**17. Visualizzare l'indirizzo e il numero di telefono degli uffici postali dei municipi 1, 2 e 3.**"
      ]
    },
    {
      "cell_type": "code",
      "metadata": {
        "id": "0TeUMH3dscxn"
      },
      "source": [
        "df[df['MUNICIPIO'].isin([1,2,3])][['Indirizzo','Telefono']]"
      ],
      "execution_count": null,
      "outputs": []
    },
    {
      "cell_type": "markdown",
      "metadata": {
        "id": "qYovyMopshMb"
      },
      "source": [
        "**18. Visualizzare gli uffici di cui non si conosce il numero di telefono o il fax.**"
      ]
    },
    {
      "cell_type": "code",
      "metadata": {
        "id": "GJx1DxVRspKY"
      },
      "source": [
        "df[(df['Telefono'].isnull()) | (df['Fax'].isnull())][['NIL']]"
      ],
      "execution_count": null,
      "outputs": []
    },
    {
      "cell_type": "code",
      "metadata": {
        "id": "eqkV97nSqJX3"
      },
      "source": [
        "df[df.isna().any(axis = 1)]\n",
        "# df[df.isnull().any(axis = 1)]"
      ],
      "execution_count": null,
      "outputs": []
    },
    {
      "cell_type": "markdown",
      "metadata": {
        "id": "VQ3uUFPZsvT_"
      },
      "source": [
        "# **Raggruppamento**"
      ]
    },
    {
      "cell_type": "markdown",
      "metadata": {
        "id": "kAhXn31JszMg"
      },
      "source": [
        "**19. Visualizzare il numero di uffici per ogni Nucleo di Identità Locale (NIL).**"
      ]
    },
    {
      "cell_type": "code",
      "metadata": {
        "id": "dp5r4RXGs8gY"
      },
      "source": [
        "df.groupby('NIL').size()\n",
        "# df.groupby('NIL').count()\n",
        "# df1 = df.groupby(df['NIL']).count()[['Indirizzo']].rename(columns={\"Indirizzo\":\"UFFICI\"})\n",
        "# df1\n",
        "# .rename(columns={\"Indirizzo\":\"UFFICI\"}) per cambiare il nome della colonna"
      ],
      "execution_count": null,
      "outputs": []
    },
    {
      "cell_type": "markdown",
      "metadata": {
        "id": "RJXTF7xRtB00"
      },
      "source": [
        "**20. Visualizzare il numero di uffici per ogni Nucleo di Identità Locale (NIL). Ordinare a partire dal NIL che ha più uffici.**"
      ]
    },
    {
      "cell_type": "code",
      "metadata": {
        "id": "iemkJfWZtOjA"
      },
      "source": [
        "# df1.sort_values('UFFICI',  ascending=True)\n",
        "df.groupby('NIL').count().sort_values(\"Indirizzo\", ascending = False)[['Indirizzo']]"
      ],
      "execution_count": null,
      "outputs": []
    },
    {
      "cell_type": "code",
      "metadata": {
        "id": "OpAIDffItXpN"
      },
      "source": [
        "df['NIL'].value_counts()\n",
        "# .value_counts() conta i valori uguali, quante volte un valore compare"
      ],
      "execution_count": null,
      "outputs": []
    },
    {
      "cell_type": "markdown",
      "metadata": {
        "id": "LlmB23HEtSoY"
      },
      "source": [
        "**21. Visualizzare i municipi che hanno più di 15 uffici postali.**"
      ]
    },
    {
      "cell_type": "code",
      "metadata": {
        "id": "87bdiQQ1tlUP"
      },
      "source": [
        "df['MUNICIPIO'].value_counts()[df['MUNICIPIO'].value_counts() > 10] # > 15"
      ],
      "execution_count": null,
      "outputs": []
    },
    {
      "cell_type": "markdown",
      "metadata": {
        "id": "NE4FZC4qtpEt"
      },
      "source": [
        "**22. Visualizzare il municipio che ha più uffici postali.**"
      ]
    },
    {
      "cell_type": "code",
      "metadata": {
        "id": "LoBFEIFstwsj"
      },
      "source": [
        "df['MUNICIPIO'].value_counts().idxmax() # per un solo valore\n",
        "# df.groupby('MUNICIPIO')['Indirizzo'].count().idxmax()\n",
        "# df['MUNICIPIO'].value_counts()[df['MUNICIPIO'].value_counts()==df['MUNICIPIO'].value_counts().max()] per più valori"
      ],
      "execution_count": null,
      "outputs": []
    },
    {
      "cell_type": "markdown",
      "metadata": {
        "id": "aX0-qu3XJbyh"
      },
      "source": [
        "**23. Visualizzare il municipio che ha meno uffici postali.**"
      ]
    },
    {
      "cell_type": "code",
      "metadata": {
        "id": "MtjMooN6Jcl6"
      },
      "source": [
        "# df['MUNICIPIO'].value_counts().idxmin() per un solo valore\n",
        "df['MUNICIPIO'].value_counts()[df['MUNICIPIO'].value_counts()==df['MUNICIPIO'].value_counts().min()] # per più valori"
      ],
      "execution_count": null,
      "outputs": []
    },
    {
      "cell_type": "markdown",
      "metadata": {
        "id": "-_363yyPtxsL"
      },
      "source": [
        "**24. Visualizzare il numero medio di uffici postali in ogni municipio.**"
      ]
    },
    {
      "cell_type": "code",
      "metadata": {
        "id": "OUa5mufut4NH"
      },
      "source": [
        "# df.groupby(df['MUNICIPIO']).count().mean().round(2).mean()\n",
        "df['MUNICIPIO'].value_counts().mean()"
      ],
      "execution_count": null,
      "outputs": []
    },
    {
      "cell_type": "markdown",
      "metadata": {
        "id": "uHnRkq__t4Yb"
      },
      "source": [
        "**25. Visualizzare i municipi che hanno un numero di uffici postali superiore alla media.**"
      ]
    },
    {
      "cell_type": "code",
      "metadata": {
        "id": "mt1S4aFZuElw"
      },
      "source": [
        "df1 = df.groupby('MUNICIPIO').count()\n",
        "df1[df1.Indirizzo > df1.Indirizzo.mean()]"
      ],
      "execution_count": null,
      "outputs": []
    },
    {
      "cell_type": "markdown",
      "metadata": {
        "id": "c9w4Yc6xuIRX"
      },
      "source": [
        "# **Eliminazione di righe o colonne**"
      ]
    },
    {
      "cell_type": "markdown",
      "metadata": {
        "id": "3vbd6lK9uJSE"
      },
      "source": [
        "**26. Eliminare tutti i record relativi al NIL di Niguarda.**"
      ]
    },
    {
      "cell_type": "code",
      "metadata": {
        "id": "QHJLEy2JuQZ8"
      },
      "source": [
        "df = df.drop(df[df['NIL'].str.contains('NIGUARDA')].index)\n",
        "df"
      ],
      "execution_count": null,
      "outputs": []
    },
    {
      "cell_type": "markdown",
      "metadata": {
        "id": "LuAjVm6juQ_l"
      },
      "source": [
        "**27. Eliminare le ultime tre colonne.**"
      ]
    },
    {
      "cell_type": "code",
      "metadata": {
        "id": "lkABkJprucEb"
      },
      "source": [
        "# df.drop(df.tail(3).index,inplace=True)\n",
        "# df\n",
        "df = df.drop(columns = df.iloc[:, -3:])\n",
        "# df df=[:-3]\n",
        "# df"
      ],
      "execution_count": null,
      "outputs": []
    },
    {
      "cell_type": "markdown",
      "metadata": {
        "id": "-20iWrPZucSL"
      },
      "source": [
        "**28. Eliminare i record di cui non si conosce il numero di telefono o il fax.**"
      ]
    },
    {
      "cell_type": "code",
      "metadata": {
        "id": "SoxcxswkujYk"
      },
      "source": [
        "df.dropna(subset=['Telefono', 'Fax'], inplace = True)\n",
        "df"
      ],
      "execution_count": null,
      "outputs": []
    },
    {
      "cell_type": "markdown",
      "metadata": {
        "id": "M1kVGNM6Jrgf"
      },
      "source": [
        "# **Aggiornamento di informazioni**"
      ]
    },
    {
      "cell_type": "markdown",
      "metadata": {
        "id": "pd7jg7ROJxab"
      },
      "source": [
        "**29. Modificare il numero di telefono dell'ufficio di viale Zara in 02-69922222**"
      ]
    },
    {
      "cell_type": "code",
      "metadata": {
        "id": "9UFRxac5KEVz"
      },
      "source": [
        "# df.loc['VIALE ZARA 131', 'Telefono'] = '02-69922222'\n",
        "# df\n",
        "df[df.Indirizzo.str.contains('VIALE ZARA')]['Telefono'] = '02-69922222'\n",
        "df # oppure utilizzare un altro dataframe"
      ],
      "execution_count": null,
      "outputs": []
    },
    {
      "cell_type": "markdown",
      "metadata": {
        "id": "f0NWFf6WKFAX"
      },
      "source": [
        "**30. Sostituire il trattino presente nei numeri di telefono con il carattere /**"
      ]
    },
    {
      "cell_type": "code",
      "metadata": {
        "id": "ud2RjGD3KT2Y"
      },
      "source": [
        "df['Telefono'] = df['Telefono'].str.replace('-', '/')\n",
        "df"
      ],
      "execution_count": null,
      "outputs": []
    }
  ]
}