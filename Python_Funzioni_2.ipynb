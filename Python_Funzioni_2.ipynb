{
  "nbformat": 4,
  "nbformat_minor": 0,
  "metadata": {
    "colab": {
      "name": "Copia di Esercizio funzioni 2",
      "provenance": [],
      "collapsed_sections": []
    },
    "kernelspec": {
      "name": "python3",
      "display_name": "Python 3"
    },
    "language_info": {
      "name": "python"
    }
  },
  "cells": [
    {
      "cell_type": "markdown",
      "metadata": {
        "id": "SRT9UsE87_7N"
      },
      "source": [
        "Scrivere una funzione chiamata max che dati due numeri restituisca il più grande. Scrivere poi un programma che, utilizzando la funzione creata, trovi il massimo tra tre numeri inseriti dall'utente."
      ]
    },
    {
      "cell_type": "code",
      "metadata": {
        "id": "dY5A78ad8DTk"
      },
      "source": [
        "def max(x, y):\n",
        "  if x > y:\n",
        "    return x\n",
        "  else:\n",
        "    return y\n",
        "n1 = int(input(\"Inserire il primo numero: \"))\n",
        "n2 = int(input(\"Inserire il secondo numero: \"))\n",
        "n3 = int(input(\"Inserire il terzo numero: \"))\n",
        "print(\"Numero maggiore:\", max(n1, max(n2, n3)))"
      ],
      "execution_count": null,
      "outputs": []
    },
    {
      "cell_type": "markdown",
      "metadata": {
        "id": "9abHCssZ8DhE"
      },
      "source": [
        "Scrivere una funzione chiamata sommaLista che data una lista di interi restituisca la somma di tutti gli elementi della lista. Scrivere poi un programma che, utilizzando la funzione create, trovi la somma degli elementi di una lista inserita dall'utente."
      ]
    },
    {
      "cell_type": "code",
      "metadata": {
        "id": "-j2oWWsx8HV1"
      },
      "source": [
        "def sommaLista(lst1):\n",
        "  sum = 0\n",
        "  for el in lst1:\n",
        "    sum = sum + el\n",
        "  return sum\n",
        "lst1 = [int(n) for n in input(\"Inserire i valori nella lista: \").split()]\n",
        "print(sommaLista(lst1))"
      ],
      "execution_count": null,
      "outputs": []
    },
    {
      "cell_type": "markdown",
      "metadata": {
        "id": "g_mb5Szl8Hll"
      },
      "source": [
        "Utilizzando le funzioni create precedentemente, scrivere un programma che permetta all'utente di inserire tre liste e di avere il valore massimo della somma degli elementi delle tre liste."
      ]
    },
    {
      "cell_type": "code",
      "metadata": {
        "id": "L0S_LWgw8NXs"
      },
      "source": [
        "num1 = sommaLista(list(map(int, input(\"Inserire i valori nella prima lista: \").split())))\n",
        "num2 = sommaLista(list(map(int, input(\"Inserire i valori nella seconda lista: \").split())))\n",
        "num3 = sommaLista(list(map(int, input(\"Inserire i valori nella terza lista: \").split())))\n",
        "va = max(num1, max(num2, num3))\n",
        "print(va)"
      ],
      "execution_count": null,
      "outputs": []
    },
    {
      "cell_type": "markdown",
      "metadata": {
        "id": "OMmOB4cF8N7s"
      },
      "source": [
        "Scrivere una funzione chiamata controlla che dato un numero e due estremi restituisca True se il numero è compreso tra i due estremi, false altrimenti. Utilizzare poi la funzione per trovare il numero di elementi di una lista di numeri interi (inserita dall'utente) compresi tra due estremi (inseriti anch'essi dall'utente)."
      ]
    },
    {
      "cell_type": "code",
      "metadata": {
        "id": "HLTqpbw78S3F"
      },
      "source": [
        "def controlla(n, e1, e2):\n",
        "  if e1 < n < e2:\n",
        "    return True\n",
        "  else:\n",
        "    return False\n",
        "n = int(input(\"Inserire un valore: \"))\n",
        "e1 = int(input(\"Inserire l'estremo minore: \"))\n",
        "e2 = int(input(\"Inserire l'estremo maggiore: \"))\n",
        "print(controlla(n, e1, e2))"
      ],
      "execution_count": null,
      "outputs": []
    },
    {
      "cell_type": "code",
      "metadata": {
        "id": "eSKrzFD63Nbw"
      },
      "source": [
        "raddoppia = lambda x: x*2\n",
        "lst = [i for i in range(0, 11)]\n",
        "print(lst)\n",
        "lst2 = list(map(raddoppia, lst))\n",
        "print(lst2)\n",
        "lst3 = list(map(str, lst2))\n",
        "print(lst3)\n",
        "# pari = lambda x: True if x%2==0 else False\n",
        "pari = lambda x: x%2==0\n",
        "lst4 = list(map(pari, lst))\n",
        "print(lst4)"
      ],
      "execution_count": null,
      "outputs": []
    },
    {
      "cell_type": "markdown",
      "metadata": {
        "id": "UWIdhUs_8TDW"
      },
      "source": [
        "Utilizzare la funzione controlla creata precedentemente per scrivere un programma che, data una lista di numeri interi inserita  dall'utente, carichi in un'altra lista i numeri compresi tra due estremi inseriti anch'essi dall'utente."
      ]
    },
    {
      "cell_type": "code",
      "metadata": {
        "id": "GqZDffWb8Xzl"
      },
      "source": [
        "lst1 = [int(n) for n in input(\"Inserire i valori nella lista: \").split()]\n",
        "lst2 = []\n",
        "e1 = int(input(\"Inserire l'estremo minore: \"))\n",
        "e2 = int(input(\"Inserire l'estremo maggiore: \"))\n",
        "for el in lst1:\n",
        "  if controlla(el, e1, e2):\n",
        "    lst2.append(el)\n",
        "print(lst2)"
      ],
      "execution_count": null,
      "outputs": []
    },
    {
      "cell_type": "markdown",
      "metadata": {
        "id": "Qy2tErhh8YJV"
      },
      "source": [
        "Scrivere una funzione chiamata confrontaListe che date due liste restituisca True se le due liste sono uguali, False altrimenti. Utilizzare poi la funzione in un programma che dica se una lista di interi è palindroma, cioè se può essere letta indifferentemente da sinistra a destra e da destra a sinistra. Ad esempio la lista [1, 2, 3, 4, 3, 2, 1] è palindroma, la lista [1, 2, 3, 4, 3, 1, 2] non lo è."
      ]
    },
    {
      "cell_type": "code",
      "metadata": {
        "id": "w369kAEb8evl"
      },
      "source": [
        "def confrontaListe(lst, lst1):\n",
        "  return lst1 == lst\n",
        "lst = [int(n) for n in input(\"Inserire i valori nella lista: \").split()]\n",
        "lst2 = lst[::-1]\n",
        "if confrontaListe(lst, lst[::-1]): # slicing to reverse a list\n",
        "  print(lst, \"Palindroma\")\n",
        "else:\n",
        "  print(lst, \"Non palindroma\")"
      ],
      "execution_count": null,
      "outputs": []
    },
    {
      "cell_type": "markdown",
      "metadata": {
        "id": "MLRFvyej8fUt"
      },
      "source": [
        "Scrivere una funzione chiamata celsiusToFahrenheit che data una temperatura in gradi Celsius restituisca il valore convertito in gradi Fahrenheit (per ulteriori info, google it). Scrivere poi un programma che data una lista di temperature in gradi Celsius, inserita dall'utente, converta tutte le temperature in gradi Fahrenheit."
      ]
    },
    {
      "cell_type": "code",
      "metadata": {
        "id": "yF5jqqNa8jn9"
      },
      "source": [
        "# def celsiusToFarenheit(x):\n",
        "#   return 9.0/5.0 * x + 32\n",
        "# lst = [int(n) for n in input(\"Inserire i valori nella lista: \").split()]\n",
        "# for i in range(1, len(lst)+1):\n",
        "# print(\"Fahrenheit: \", celsiusToFarenheit(lst[i-1]))\n",
        "\n",
        "def celsiusToFahrenheit(x):\n",
        "  return 9.0/5.0 * x + 32\n",
        "lst = list(map(int, input(\"Inserire i valori nella lista: \").split())) # map() applica lafunzione ad ogni elemento presente\n",
        "lst1 = list(map(celsiusToFahrenheit, lst))\n",
        "print(lst1)"
      ],
      "execution_count": null,
      "outputs": []
    },
    {
      "cell_type": "markdown",
      "metadata": {
        "id": "9p66Sh_g8j2t"
      },
      "source": [
        "Scrivere una funzione chiamata IMC che calcoli l'Indice di Massa Corporea a partire dal peso (in kg) e dall'altezza (in m). Utilizzare poi la funzione per scrivere un programma che date tre liste, contenente la prima una serie di nomi, la seconda una serie di pesi e la terza una serie di altezze, produca una quarta lista contenente i valori di IMC corrispondenti. Visualizzare poi i risultati nel seguente modo: \"<nome> pesa <peso kg, misura <altezza> m ed ha un IMC di <IMC>\" ( i valori nelle parentesi angolari vanno presi ovviamente dalle liste)."
      ]
    },
    {
      "cell_type": "code",
      "metadata": {
        "id": "AeF0-vsZ8oad"
      },
      "source": [
        "def IMC(x, y):\n",
        "  return x/(y*y)\n",
        "nomi = ['Paolo', 'Luciana', 'Giovanni', 'Laura']\n",
        "pesi = [68, 49, 87, 50]\n",
        "altezze = [1.79, 1.60, 1.96, 1.63]\n",
        "for i in range(0, len(nomi)):\n",
        "  print(nomi[i], 'pesa', pesi[i], 'kg, misura', altezza[i], 'ed ha un IMC di', IMC(pesi[i], altezze[i]))"
      ],
      "execution_count": null,
      "outputs": []
    },
    {
      "cell_type": "markdown",
      "metadata": {
        "id": "rfDCmx7Y8ovN"
      },
      "source": [
        "Scrivere una lambda function per estrarre da una lista di numeri interi tutti i valori pari."
      ]
    },
    {
      "cell_type": "code",
      "metadata": {
        "id": "J0cilN7m8tyt"
      },
      "source": [
        "lst = [int(n) for n in input(\"Inserire i valori nella lista: \").split()]\n",
        "pari = list(filter(lambda n: (n % 2 == 0), lst))\n",
        "print(pari)"
      ],
      "execution_count": null,
      "outputs": []
    }
  ]
}