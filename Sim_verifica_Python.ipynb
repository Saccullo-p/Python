{
  "nbformat": 4,
  "nbformat_minor": 0,
  "metadata": {
    "colab": {
      "name": "Copia di Simulazione verifica Python.ipynb",
      "provenance": [],
      "collapsed_sections": []
    },
    "kernelspec": {
      "name": "python3",
      "display_name": "Python 3"
    },
    "language_info": {
      "name": "python"
    }
  },
  "cells": [
    {
      "cell_type": "markdown",
      "metadata": {
        "id": "H0z9bC2oc0XV"
      },
      "source": [
        "Scrivere un programma che permetta all'utente di inserire tre valori e visualizzi quello intermedio."
      ]
    },
    {
      "cell_type": "code",
      "metadata": {
        "id": "YAtsk_n7c6Ls"
      },
      "source": [
        "n1 = int(input(\"Inserire il primo valore: \"))\n",
        "n2 = int(input(\"Inserire il secondo valore: \"))\n",
        "n3 = int(input(\"Inserire il terzo valore: \"))\n",
        "if n1 > n2 and n1 < n3 or n1 > n3 and n1 < n2:\n",
        "  intermedio = n1\n",
        "elif n2 > n1 and n2 < n3 or n2 > n3 and n2 < n1:\n",
        "  intermedio = n2\n",
        "else:\n",
        "  intermedio = n3\n",
        "print(intermedio)"
      ],
      "execution_count": null,
      "outputs": []
    },
    {
      "cell_type": "markdown",
      "metadata": {
        "id": "vF9HS19verRd"
      },
      "source": [
        "Scrivere un programma che permetta all'utente di caricare una lista di numeri interi ed un valore e carichi in un'altra lista tutti gli elementi della prima lista che sono multipli del valore inserito. Al termnine visualizzare entrambe le liste."
      ]
    },
    {
      "cell_type": "code",
      "metadata": {
        "id": "Ygq3YUf-fRO2"
      },
      "source": [
        "lst = [int(n) for n in input(\"Inserire i valori nella lista: \").split()]\n",
        "lst1 = []\n",
        "x = int(input(\"Inserire un valore: \"))\n",
        "for el in lst:\n",
        "  if el%x==0:\n",
        "    lst1.append(el)\n",
        "print(lst, \"\\n\", lst1)"
      ],
      "execution_count": null,
      "outputs": []
    },
    {
      "cell_type": "markdown",
      "metadata": {
        "id": "u6SWfbXBhDQt"
      },
      "source": [
        "Scrivere un programma che permetta all'utente di memorizzare in un dizionario i numeri di telefono dei propri amici. L'utente deve poter inserire i nomi e i numeri."
      ]
    },
    {
      "cell_type": "code",
      "metadata": {
        "id": "BWVm7IyJhHaF"
      },
      "source": [
        "x = int(input(\"Quanti valori saranno inseriti? \"))\n",
        "d = {}\n",
        "for i in range(0, x):\n",
        "  keys = input()\n",
        "  values = int(input())\n",
        "  d[keys] = values\n",
        "print(d)"
      ],
      "execution_count": null,
      "outputs": []
    },
    {
      "cell_type": "markdown",
      "metadata": {
        "id": "9bY9u2s1hoDt"
      },
      "source": [
        "Scrivere un programma che dato il dizionario dell'esercizio precedente, permetta all'utente di inserire un nome e avere il numero di telefono corrispondente."
      ]
    },
    {
      "cell_type": "code",
      "metadata": {
        "id": "77mdj9NvhqKV"
      },
      "source": [
        "nome = str(input(\"Inserire un nome: \"))\n",
        "print(d[nome])"
      ],
      "execution_count": null,
      "outputs": []
    },
    {
      "cell_type": "markdown",
      "metadata": {
        "id": "-i4QPj-dkhVW"
      },
      "source": [
        "Scrivere una funzione che dato il raggio calcoli la superficie del cerchio avente quel raggio. Chiamare al funzione superficie. Il valore di ritorno deve avere tre cifre decimali."
      ]
    },
    {
      "cell_type": "code",
      "metadata": {
        "id": "nFV7CwFqkkGt"
      },
      "source": [
        "import math\n",
        "def superficie(x):\n",
        "  return round(x*x*math.pi, 3)"
      ],
      "execution_count": null,
      "outputs": []
    },
    {
      "cell_type": "markdown",
      "metadata": {
        "id": "nM8e4ua7kvut"
      },
      "source": [
        "Scrivere una funzione che, utilizzando la funzione superficie dell'esercizio precedente, permetta di calcolare il volume di un cilindro dato il raggio e l'altezza. Chiamare la funzione volume."
      ]
    },
    {
      "cell_type": "code",
      "metadata": {
        "id": "pa2EHoF-kzze"
      },
      "source": [
        "import math\n",
        "def volume(x, y):\n",
        "  return round(math.pi*x*x*y, 2)\n",
        "r = int(input(\"Inserire il raggio: \"))\n",
        "a = int(input(\"Inserire l'altezza: \"))\n",
        "print(volume(r, a))"
      ],
      "execution_count": null,
      "outputs": []
    },
    {
      "cell_type": "markdown",
      "metadata": {
        "id": "DL7VjBilk0lF"
      },
      "source": [
        "Scrivere un programma che permetta di decrementare tutti gli elementi di una lista utilizzando una lambda function e la funzione map(). Far inserire all'utente gli elementi della lista."
      ]
    },
    {
      "cell_type": "code",
      "metadata": {
        "id": "bYKVc2P9k42F"
      },
      "source": [
        "lst = [int(n) for n in input(\"Inserire i valori nella lista: \").split()]\n",
        "lst1 = list(map(lambda x: x-1, lst)) # in questo caso la funzione decrementa di 1\n",
        "print(lst)\n",
        "print(lst1)"
      ],
      "execution_count": null,
      "outputs": []
    },
    {
      "cell_type": "markdown",
      "metadata": {
        "id": "52SilyQfk5dm"
      },
      "source": [
        "Scrivere un programma che permetta di estrarre da una lista tutti i valori pari utilizzando una lambda function e la funzione filter(). Far inserire all'utente gli elementi della lista."
      ]
    },
    {
      "cell_type": "code",
      "metadata": {
        "id": "6drHs2KglGD2"
      },
      "source": [
        "lst = [int(n) for n in input(\"Inserire i valori nella lista: \").split()]\n",
        "lst1 = list(filter(lambda n: (n % 2 == 0), lst))\n",
        "print(lst)\n",
        "print(lst1)"
      ],
      "execution_count": null,
      "outputs": []
    },
    {
      "cell_type": "markdown",
      "metadata": {
        "id": "XrazYpJhlaXG"
      },
      "source": [
        "Scrivere una funzione ricorsiva per calcolare l'elevamento a potenza di un numero intero. La funzione ha due paramentri: numero ed esponente."
      ]
    },
    {
      "cell_type": "code",
      "metadata": {
        "id": "FOMVD-Xflcvu"
      },
      "source": [
        "def potenza(n, e):\n",
        "    if e == 0:\n",
        "        return 1\n",
        "    else:\n",
        "        return n * potenza(n, e - 1)"
      ],
      "execution_count": null,
      "outputs": []
    }
  ]
}